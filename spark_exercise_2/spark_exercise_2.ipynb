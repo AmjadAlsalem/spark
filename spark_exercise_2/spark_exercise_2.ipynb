{
 "cells": [
  {
   "cell_type": "markdown",
   "metadata": {
    "application/vnd.databricks.v1+cell": {
     "cellMetadata": {},
     "inputWidgets": {},
     "nuid": "256b2e66-bb0e-4e4a-a6c8-a5140877924e",
     "showTitle": false,
     "title": ""
    }
   },
   "source": [
    "<div  align='center'><img src='https://s3.amazonaws.com/weclouddata/images/logos/wcd_logo_new_2.png' width='30%'></div >\n",
    "\n",
    "<p style=\"font-size:20px;text-align:center\"><b><font color='#F39A54'>Data Engineering Diploma</font></b></p>\n",
    "\n",
    "<h2 align='center'> WeCloudData Data Engineer Spark Exercise 2 </h2>\n",
    "\n",
    "<br>"
   ]
  },
  {
   "cell_type": "markdown",
   "metadata": {
    "application/vnd.databricks.v1+cell": {
     "cellMetadata": {},
     "inputWidgets": {},
     "nuid": "93adab8e-e0c7-470f-8795-fb7f1b1c89de",
     "showTitle": false,
     "title": ""
    }
   },
   "source": [
    "Please download data from [HERE](s3://weclouddata/data/data/pyspark_exercises_data.zip)"
   ]
  },
  {
   "cell_type": "markdown",
   "metadata": {
    "application/vnd.databricks.v1+cell": {
     "cellMetadata": {},
     "inputWidgets": {},
     "nuid": "7d93edca-3bfe-4b8f-9dbd-78ff6e8b396f",
     "showTitle": false,
     "title": ""
    },
    "id": "myrIYVhmA2hG"
   },
   "source": [
    "# Section 4. Search and Filter DataFrames in PySpark\n",
    "Now it's time to put what you've learn into action with a homework assignment!\n",
    "\n",
    "\n",
    "### First set up your Spark Session!\n",
    "Alright so first things first, let's start up our pyspark instance.\n",
    "\n"
   ]
  },
  {
   "cell_type": "code",
   "execution_count": 0,
   "metadata": {
    "application/vnd.databricks.v1+cell": {
     "cellMetadata": {},
     "inputWidgets": {},
     "nuid": "f4ad5482-fef1-4463-ba73-2dead316b971",
     "showTitle": false,
     "title": ""
    }
   },
   "outputs": [],
   "source": []
  },
  {
   "cell_type": "markdown",
   "metadata": {
    "application/vnd.databricks.v1+cell": {
     "cellMetadata": {},
     "inputWidgets": {},
     "nuid": "a9d91f46-f1fb-47ec-b664-f882ac42a9bc",
     "showTitle": false,
     "title": ""
    },
    "id": "HPG15cbDA2hH"
   },
   "source": [
    "## Read in the DataFrame for this Notebook\n",
    "\n",
    "We will use the `fifa19.csv` file for this notebook. Make sure that you are writting the correct path to the file.  "
   ]
  },
  {
   "cell_type": "code",
   "execution_count": 0,
   "metadata": {
    "application/vnd.databricks.v1+cell": {
     "cellMetadata": {},
     "inputWidgets": {},
     "nuid": "fe6c0748-0fc2-4e16-b6d6-7256def59604",
     "showTitle": false,
     "title": ""
    }
   },
   "outputs": [],
   "source": []
  },
  {
   "cell_type": "markdown",
   "metadata": {
    "application/vnd.databricks.v1+cell": {
     "cellMetadata": {},
     "inputWidgets": {},
     "nuid": "2310aefa-3212-434d-a2e0-56a3a80e0518",
     "showTitle": false,
     "title": ""
    }
   },
   "source": [
    "## About this dataframe\n",
    "\n",
    "The **fifa19.csv** dataset includes a list of all the FIFA 2019 players and their attributes listed below: \n",
    "\n",
    " - **General**: Age, Nationality, Overall, Potential, Club\n",
    " - **Metrics:** Value, Wage\n",
    " - **Player Descriptive:** Preferred Foot, International Reputation, Weak Foot, Skill Moves, Work Rate, Position, Jersey Number, Joined, Loaned From, Contract Valid Until, Height, Weight\n",
    " - **Possition:** LS, ST, RS, LW, LF, CF, RF, RW, LAM, CAM, RAM, LM, LCM, CM, RCM, RM, LWB, LDM, CDM, RDM, RWB, LB, LCB, CB, RCB, RB, \n",
    " - **Other:** Crossing, Finishing, Heading, Accuracy, ShortPassing, Volleys, Dribbling, Curve, FKAccuracy, LongPassing, BallControl, Acceleration, SprintSpeed, Agility, Reactions, Balance, ShotPower, Jumping, Stamina, Strength, LongShots, Aggression, Interceptions, Positioning, Vision, Penalties, Composure, Marking, StandingTackle, SlidingTackle, GKDiving, GKHandling, GKKicking, GKPositioning, GKReflexes, and Release Clause.\n",
    "\n",
    "**Source:** `fifa19.csv`"
   ]
  },
  {
   "cell_type": "markdown",
   "metadata": {
    "application/vnd.databricks.v1+cell": {
     "cellMetadata": {},
     "inputWidgets": {},
     "nuid": "01a2b1ac-5eb6-4a6b-9325-611dba60cb2b",
     "showTitle": false,
     "title": ""
    },
    "id": "jadmM3x8A2hH"
   },
   "source": [
    "Use the .toPandas() method to view the first few lines of the dataset so we know what we are working with. "
   ]
  },
  {
   "cell_type": "code",
   "execution_count": 0,
   "metadata": {
    "application/vnd.databricks.v1+cell": {
     "cellMetadata": {},
     "inputWidgets": {},
     "nuid": "968e23a8-22bb-4ba2-a391-f59d7bf53bec",
     "showTitle": false,
     "title": ""
    }
   },
   "outputs": [],
   "source": []
  },
  {
   "cell_type": "markdown",
   "metadata": {
    "application/vnd.databricks.v1+cell": {
     "cellMetadata": {},
     "inputWidgets": {},
     "nuid": "6af10f47-ce48-43b9-8cdb-5da090024f88",
     "showTitle": false,
     "title": ""
    },
    "id": "god9VAIzA2hI"
   },
   "source": [
    "Now print the schema of the dataset so we can see the data types of all the varaibles. "
   ]
  },
  {
   "cell_type": "code",
   "execution_count": 0,
   "metadata": {
    "application/vnd.databricks.v1+cell": {
     "cellMetadata": {},
     "inputWidgets": {},
     "nuid": "d851d6aa-2173-44f0-91a2-2be68b9d6d63",
     "showTitle": false,
     "title": ""
    }
   },
   "outputs": [],
   "source": []
  },
  {
   "cell_type": "markdown",
   "metadata": {
    "application/vnd.databricks.v1+cell": {
     "cellMetadata": {},
     "inputWidgets": {},
     "nuid": "c1ca04ae-24b5-4d14-9bb3-3f8fa74851fe",
     "showTitle": false,
     "title": ""
    },
    "id": "U5UQF00QA2hI"
   },
   "source": [
    "## S4.1. Select the Name and Position of each player in the dataframe"
   ]
  },
  {
   "cell_type": "code",
   "execution_count": 0,
   "metadata": {
    "application/vnd.databricks.v1+cell": {
     "cellMetadata": {},
     "inputWidgets": {},
     "nuid": "9adad11f-fa54-4ec5-87d0-c7afc7fcb00e",
     "showTitle": false,
     "title": ""
    }
   },
   "outputs": [],
   "source": []
  },
  {
   "cell_type": "markdown",
   "metadata": {
    "application/vnd.databricks.v1+cell": {
     "cellMetadata": {},
     "inputWidgets": {},
     "nuid": "8f33a641-907e-428d-ade3-40568f4d0f53",
     "showTitle": false,
     "title": ""
    },
    "id": "8tg2v9YuA2hJ"
   },
   "source": [
    "## S4.1.1 Display the same results from above sorted by the players names"
   ]
  },
  {
   "cell_type": "code",
   "execution_count": 0,
   "metadata": {
    "application/vnd.databricks.v1+cell": {
     "cellMetadata": {},
     "inputWidgets": {},
     "nuid": "ead7f65b-8574-4b5b-b2f4-a564f692825d",
     "showTitle": false,
     "title": ""
    }
   },
   "outputs": [],
   "source": []
  },
  {
   "cell_type": "markdown",
   "metadata": {
    "application/vnd.databricks.v1+cell": {
     "cellMetadata": {},
     "inputWidgets": {},
     "nuid": "bddb4e9b-eae8-40a0-b913-c77b116d083d",
     "showTitle": false,
     "title": ""
    },
    "id": "6JWsIpZaA2hK"
   },
   "source": [
    "## S4.2. Select only the players who belong to a club beginning with FC"
   ]
  },
  {
   "cell_type": "code",
   "execution_count": 0,
   "metadata": {
    "application/vnd.databricks.v1+cell": {
     "cellMetadata": {},
     "inputWidgets": {},
     "nuid": "a5ece266-af60-4f5c-87a9-2bba054573fa",
     "showTitle": false,
     "title": ""
    }
   },
   "outputs": [],
   "source": []
  },
  {
   "cell_type": "markdown",
   "metadata": {
    "application/vnd.databricks.v1+cell": {
     "cellMetadata": {},
     "inputWidgets": {},
     "nuid": "960cbe63-bd0c-4f63-8149-d66734c61ec1",
     "showTitle": false,
     "title": ""
    },
    "id": "XkC0dlFhA2hL"
   },
   "source": [
    "## S4.3. Who is the oldest player in the dataset and how old are they?\n",
    "\n",
    "Display only the name and age of the oldest player."
   ]
  },
  {
   "cell_type": "code",
   "execution_count": 0,
   "metadata": {
    "application/vnd.databricks.v1+cell": {
     "cellMetadata": {},
     "inputWidgets": {},
     "nuid": "01ec1a81-e75c-43f1-bc0e-d5670e3c35ce",
     "showTitle": false,
     "title": ""
    }
   },
   "outputs": [],
   "source": []
  },
  {
   "cell_type": "markdown",
   "metadata": {
    "application/vnd.databricks.v1+cell": {
     "cellMetadata": {},
     "inputWidgets": {},
     "nuid": "dfe49f22-ebfe-4b05-bc49-f5623e632fe1",
     "showTitle": false,
     "title": ""
    },
    "id": "FVtwIE1aA2hN"
   },
   "source": [
    "## S4.4. Select only the following players from the dataframe:\n",
    "\n",
    " - L. Messi\n",
    " - Cristiano Ronaldo"
   ]
  },
  {
   "cell_type": "code",
   "execution_count": 0,
   "metadata": {
    "application/vnd.databricks.v1+cell": {
     "cellMetadata": {},
     "inputWidgets": {},
     "nuid": "40899d00-d0ae-44ec-a098-27ce02fc8383",
     "showTitle": false,
     "title": ""
    }
   },
   "outputs": [],
   "source": []
  },
  {
   "cell_type": "markdown",
   "metadata": {
    "application/vnd.databricks.v1+cell": {
     "cellMetadata": {},
     "inputWidgets": {},
     "nuid": "3b4d66a3-6042-41b6-926c-4db9606fe83c",
     "showTitle": false,
     "title": ""
    },
    "id": "ZWSYqBK2A2hP"
   },
   "source": [
    "## S4.5. Can you select the first character from the Release Clause variable which indicates the currency used?"
   ]
  },
  {
   "cell_type": "code",
   "execution_count": 0,
   "metadata": {
    "application/vnd.databricks.v1+cell": {
     "cellMetadata": {},
     "inputWidgets": {},
     "nuid": "3529f841-0286-446b-a923-76d97c8d6f48",
     "showTitle": false,
     "title": ""
    }
   },
   "outputs": [],
   "source": []
  },
  {
   "cell_type": "markdown",
   "metadata": {
    "application/vnd.databricks.v1+cell": {
     "cellMetadata": {},
     "inputWidgets": {},
     "nuid": "2ab14040-01a7-4ae6-b2b2-0a5c10255728",
     "showTitle": false,
     "title": ""
    },
    "id": "158LSrLSA2hQ"
   },
   "source": [
    "## S4.6. Can you select only the players who are over the age of 40?"
   ]
  },
  {
   "cell_type": "code",
   "execution_count": 0,
   "metadata": {
    "application/vnd.databricks.v1+cell": {
     "cellMetadata": {},
     "inputWidgets": {},
     "nuid": "49fb860b-8b18-42be-8324-a6be8e968fd3",
     "showTitle": false,
     "title": ""
    }
   },
   "outputs": [],
   "source": []
  },
  {
   "cell_type": "markdown",
   "metadata": {
    "application/vnd.databricks.v1+cell": {
     "cellMetadata": {},
     "inputWidgets": {},
     "nuid": "32dac045-2a16-4231-a50f-11e2d706cecc",
     "showTitle": false,
     "title": ""
    },
    "id": "3NxCZBQCA2hR"
   },
   "source": [
    "# Section 5. Joining and Appending DataFrames in PySpark\n",
    "Now it's time to test your knowledge and further engrain the concepts we touched on in the lectures. Let's go ahead and get started.\n",
    "\n",
    "\n",
    "\n",
    "\n",
    "**As always let's start our Spark instance.**"
   ]
  },
  {
   "cell_type": "code",
   "execution_count": 0,
   "metadata": {
    "application/vnd.databricks.v1+cell": {
     "cellMetadata": {},
     "inputWidgets": {},
     "nuid": "55f05a89-d320-4516-b1e1-5d45a394473a",
     "showTitle": false,
     "title": ""
    }
   },
   "outputs": [],
   "source": []
  },
  {
   "cell_type": "markdown",
   "metadata": {
    "application/vnd.databricks.v1+cell": {
     "cellMetadata": {},
     "inputWidgets": {},
     "nuid": "7f7244ba-b864-4339-a88f-bd29bf3a019a",
     "showTitle": false,
     "title": ""
    }
   },
   "source": [
    "### Read in the database\n",
    "\n",
    "Let's read in the whole database using the loop function that we learned about in the lecture to automatically read in all the datasets from the uw-madision-courses folder (there are too many datasets to each one individually."
   ]
  },
  {
   "cell_type": "code",
   "execution_count": 0,
   "metadata": {
    "application/vnd.databricks.v1+cell": {
     "cellMetadata": {},
     "inputWidgets": {},
     "nuid": "591841ed-94e4-42db-a8ab-bb776c79a506",
     "showTitle": false,
     "title": ""
    }
   },
   "outputs": [],
   "source": []
  },
  {
   "cell_type": "markdown",
   "metadata": {
    "application/vnd.databricks.v1+cell": {
     "cellMetadata": {},
     "inputWidgets": {},
     "nuid": "445bde6e-a4f9-41a7-948b-673e254d99bb",
     "showTitle": false,
     "title": ""
    }
   },
   "source": [
    "Now check the contents of a few of the dataframses that were read in above."
   ]
  },
  {
   "cell_type": "code",
   "execution_count": 0,
   "metadata": {
    "application/vnd.databricks.v1+cell": {
     "cellMetadata": {},
     "inputWidgets": {},
     "nuid": "8764655f-dd28-44ee-bb1a-2b1944401943",
     "showTitle": false,
     "title": ""
    }
   },
   "outputs": [],
   "source": []
  },
  {
   "cell_type": "markdown",
   "metadata": {
    "application/vnd.databricks.v1+cell": {
     "cellMetadata": {},
     "inputWidgets": {},
     "nuid": "7148748c-d89d-4065-95fd-2a21eb35bad9",
     "showTitle": false,
     "title": ""
    }
   },
   "source": [
    "### Recap: About this database\n",
    "\n",
    "You will notice that there are several more tables in the `uw-madison-courses` folder than there are read in above. This so that you will have a chance to practice your own custom joins and learn about the relationships between a real database work. \n",
    "\n",
    "Here is a look at some of the important variables we can use to join our tables:\n",
    "\n",
    " - course_offerings: uuid, course_uuid, term_code, name\n",
    " - instructors: id, name\n",
    " - schedules: uuid\n",
    " - sections: uuid, course_offering_uuid,room_uuid, schedule_uuid\n",
    " - teachings: instructor_id, section_uuid\n",
    " - courses: uuid\n",
    " - grade_distributions: course_offering_uuid,section_number\n",
    " - rooms: uuid, facility_code, room_code\n",
    " - subjects: code\n",
    " - subject_memberships: subject_code, course_offering_uuid\n",
    " \n",
    " **Source:** `uw-madison-courses`\n",
    " \n",
    "So alright, let's use this information to discover some insights from this data!"
   ]
  },
  {
   "cell_type": "markdown",
   "metadata": {
    "application/vnd.databricks.v1+cell": {
     "cellMetadata": {},
     "inputWidgets": {},
     "nuid": "2c289d74-090b-4e6e-88c4-f716f159826d",
     "showTitle": false,
     "title": ""
    },
    "id": "T31oiO0lA2hT"
   },
   "source": [
    "## S5.1.0. Can you assign the room numbers to each section of each course?\n",
    "\n",
    "Show only the rooms uuid, facility code, room number, term code and the name of the course from the course_offerings table."
   ]
  },
  {
   "cell_type": "code",
   "execution_count": 0,
   "metadata": {
    "application/vnd.databricks.v1+cell": {
     "cellMetadata": {},
     "inputWidgets": {},
     "nuid": "504cbeca-03e8-4a83-a691-479e763cb843",
     "showTitle": false,
     "title": ""
    }
   },
   "outputs": [],
   "source": []
  },
  {
   "cell_type": "code",
   "execution_count": 0,
   "metadata": {
    "application/vnd.databricks.v1+cell": {
     "cellMetadata": {},
     "inputWidgets": {},
     "nuid": "5852c7c5-28b9-4237-9cac-22df2ce0ca94",
     "showTitle": false,
     "title": ""
    }
   },
   "outputs": [],
   "source": []
  },
  {
   "cell_type": "markdown",
   "metadata": {
    "application/vnd.databricks.v1+cell": {
     "cellMetadata": {},
     "inputWidgets": {},
     "nuid": "2e0640dc-01fa-446d-9b14-5ed9066b58b8",
     "showTitle": false,
     "title": ""
    },
    "id": "d5GR5QvJA2hU"
   },
   "source": [
    "## S5.1.1. Now show same output as above but for only facility number 0469 (facility_code)"
   ]
  },
  {
   "cell_type": "code",
   "execution_count": 0,
   "metadata": {
    "application/vnd.databricks.v1+cell": {
     "cellMetadata": {},
     "inputWidgets": {},
     "nuid": "33092b02-b429-40f5-bdea-35b610e23547",
     "showTitle": false,
     "title": ""
    }
   },
   "outputs": [],
   "source": []
  },
  {
   "cell_type": "markdown",
   "metadata": {
    "application/vnd.databricks.v1+cell": {
     "cellMetadata": {},
     "inputWidgets": {},
     "nuid": "bcca7f37-1a7f-4d6e-985c-33e76cf1f9e5",
     "showTitle": false,
     "title": ""
    },
    "id": "CfRRWWP9A2hU"
   },
   "source": [
    "## S5.2. Count how many sections are offered for each subject for each facility\n",
    "\n",
    "*Note: this will involve a groupby*"
   ]
  },
  {
   "cell_type": "code",
   "execution_count": 0,
   "metadata": {
    "application/vnd.databricks.v1+cell": {
     "cellMetadata": {},
     "inputWidgets": {},
     "nuid": "f4154d23-49a7-4062-89d7-9176018b0a69",
     "showTitle": false,
     "title": ""
    }
   },
   "outputs": [],
   "source": []
  },
  {
   "cell_type": "code",
   "execution_count": 0,
   "metadata": {
    "application/vnd.databricks.v1+cell": {
     "cellMetadata": {},
     "inputWidgets": {},
     "nuid": "825197e9-8b95-4dd7-a211-5b30f9afc969",
     "showTitle": false,
     "title": ""
    }
   },
   "outputs": [],
   "source": []
  },
  {
   "cell_type": "code",
   "execution_count": 0,
   "metadata": {
    "application/vnd.databricks.v1+cell": {
     "cellMetadata": {},
     "inputWidgets": {},
     "nuid": "56e407fc-5cd9-4b9c-a7d1-a7c797308ec5",
     "showTitle": false,
     "title": ""
    }
   },
   "outputs": [],
   "source": []
  },
  {
   "cell_type": "code",
   "execution_count": 0,
   "metadata": {
    "application/vnd.databricks.v1+cell": {
     "cellMetadata": {},
     "inputWidgets": {},
     "nuid": "92006aee-2b40-48a0-b988-557c2574626e",
     "showTitle": false,
     "title": ""
    }
   },
   "outputs": [],
   "source": []
  },
  {
   "cell_type": "markdown",
   "metadata": {
    "application/vnd.databricks.v1+cell": {
     "cellMetadata": {},
     "inputWidgets": {},
     "nuid": "6c87fcd6-b332-496d-8c13-797910b744ad",
     "showTitle": false,
     "title": ""
    },
    "id": "lluuwtANA2hW"
   },
   "source": [
    "## S5.3. What are the hardest classes?\n",
    "\n",
    "Let's see if we can figure out which classes are the hardest by seeing how many students failed. Note that you will first need to aggregate the grades table by the course uuid to include all sections. Show the name of the course as well that you will need to get from the course_offering table."
   ]
  },
  {
   "cell_type": "code",
   "execution_count": 0,
   "metadata": {
    "application/vnd.databricks.v1+cell": {
     "cellMetadata": {},
     "inputWidgets": {},
     "nuid": "494f4b10-1467-4178-b08a-db1f988e5dbd",
     "showTitle": false,
     "title": ""
    }
   },
   "outputs": [],
   "source": []
  },
  {
   "cell_type": "code",
   "execution_count": 0,
   "metadata": {
    "application/vnd.databricks.v1+cell": {
     "cellMetadata": {},
     "inputWidgets": {},
     "nuid": "67f50d2a-6804-40fc-b77d-95a9fa127210",
     "showTitle": false,
     "title": ""
    }
   },
   "outputs": [],
   "source": []
  },
  {
   "cell_type": "markdown",
   "metadata": {
    "application/vnd.databricks.v1+cell": {
     "cellMetadata": {},
     "inputWidgets": {},
     "nuid": "04698c34-3d13-42b0-8bba-1c46f164f218",
     "showTitle": false,
     "title": ""
    },
    "id": "SlahTllrA2hX"
   },
   "source": [
    "## Challenge Question: Automating data entry errors\n",
    "\n",
    "We see in the dataframe below that there are several typos of various animal names. If this was a large database of several millions of records, correcting these errors would be way too labor intensive. How can we automate correcting these errors?\n",
    "\n",
    "*Hint: Leven...*"
   ]
  },
  {
   "cell_type": "code",
   "execution_count": 0,
   "metadata": {
    "application/vnd.databricks.v1+cell": {
     "cellMetadata": {},
     "inputWidgets": {},
     "nuid": "917a5836-36a3-4ed3-a745-a408448d9122",
     "showTitle": false,
     "title": ""
    }
   },
   "outputs": [],
   "source": [
    "values = [('Monkey',10),('Monkay',36),('Mnky',123), \\\n",
    "          ('Elephant',48),('Elefant',16),('Ellafant',1), \\\n",
    "          ('Hippopotamus',48),('Hipopotamus',16),('Hippo',1)]\n",
    "zoo = spark.createDataFrame(values,['Animal','age'])\n",
    "zoo.show()"
   ]
  },
  {
   "cell_type": "code",
   "execution_count": 0,
   "metadata": {
    "application/vnd.databricks.v1+cell": {
     "cellMetadata": {},
     "inputWidgets": {},
     "nuid": "8604db90-42b2-4be9-b566-d1b13e1f478b",
     "showTitle": false,
     "title": ""
    }
   },
   "outputs": [],
   "source": []
  },
  {
   "cell_type": "code",
   "execution_count": 0,
   "metadata": {
    "application/vnd.databricks.v1+cell": {
     "cellMetadata": {},
     "inputWidgets": {},
     "nuid": "557b2325-4958-43cf-84ba-c807e17b3f01",
     "showTitle": false,
     "title": ""
    }
   },
   "outputs": [],
   "source": []
  },
  {
   "cell_type": "markdown",
   "metadata": {
    "application/vnd.databricks.v1+cell": {
     "cellMetadata": {},
     "inputWidgets": {},
     "nuid": "a722ec27-ac2a-4848-8308-2530eb975ee9",
     "showTitle": false,
     "title": ""
    },
    "id": "6IEM_9seA2hY"
   },
   "source": [
    "# Section 6. Aggregating DataFrames in PySpark\n",
    "First let's start up our PySpark instance\n"
   ]
  },
  {
   "cell_type": "code",
   "execution_count": 0,
   "metadata": {
    "application/vnd.databricks.v1+cell": {
     "cellMetadata": {},
     "inputWidgets": {},
     "nuid": "fa3212f5-aaa2-4f5f-9762-094c6917b8c4",
     "showTitle": false,
     "title": ""
    }
   },
   "outputs": [],
   "source": []
  },
  {
   "cell_type": "markdown",
   "metadata": {
    "application/vnd.databricks.v1+cell": {
     "cellMetadata": {},
     "inputWidgets": {},
     "nuid": "7035ea0b-8441-45ee-8df7-5504e3c361c0",
     "showTitle": false,
     "title": ""
    },
    "id": "fhGK2WLWA2hY"
   },
   "source": [
    "## Read in the dataFrame for this Notebook"
   ]
  },
  {
   "cell_type": "code",
   "execution_count": 0,
   "metadata": {
    "application/vnd.databricks.v1+cell": {
     "cellMetadata": {},
     "inputWidgets": {},
     "nuid": "8096b300-352e-49a3-bb69-56a7144ba880",
     "showTitle": false,
     "title": ""
    }
   },
   "outputs": [],
   "source": []
  },
  {
   "cell_type": "markdown",
   "metadata": {
    "application/vnd.databricks.v1+cell": {
     "cellMetadata": {},
     "inputWidgets": {},
     "nuid": "c2815978-6760-4ddf-8cba-384f34983877",
     "showTitle": false,
     "title": ""
    }
   },
   "source": [
    "## About this dataset\n",
    "\n",
    "This dataset describes the listing activity and metrics for Air BNB bookers in NYC, NY for 2019. Each line in the dataset is a booking. \n",
    "\n",
    "**Source:** `nyc_air_bnb.csv`\n",
    "\n",
    "Let's go ahead and view the first few records of the dataset so we know what we are working with."
   ]
  },
  {
   "cell_type": "code",
   "execution_count": 0,
   "metadata": {
    "application/vnd.databricks.v1+cell": {
     "cellMetadata": {},
     "inputWidgets": {},
     "nuid": "78b75e2e-2fb6-44ec-b3c4-9f68eb973e6f",
     "showTitle": false,
     "title": ""
    }
   },
   "outputs": [],
   "source": []
  },
  {
   "cell_type": "markdown",
   "metadata": {
    "application/vnd.databricks.v1+cell": {
     "cellMetadata": {},
     "inputWidgets": {},
     "nuid": "f2455c3b-c267-4153-9da1-a8ad1a416c50",
     "showTitle": false,
     "title": ""
    }
   },
   "source": [
    "Now print the schema so we can make sure all the variables have the correct types"
   ]
  },
  {
   "cell_type": "code",
   "execution_count": 0,
   "metadata": {
    "application/vnd.databricks.v1+cell": {
     "cellMetadata": {},
     "inputWidgets": {},
     "nuid": "a858cc3e-a2f1-4831-ac5d-7c7cd69e3309",
     "showTitle": false,
     "title": ""
    }
   },
   "outputs": [],
   "source": []
  },
  {
   "cell_type": "markdown",
   "metadata": {
    "application/vnd.databricks.v1+cell": {
     "cellMetadata": {},
     "inputWidgets": {},
     "nuid": "61e4dc36-158a-443c-bdf1-3885701aba30",
     "showTitle": false,
     "title": ""
    },
    "id": "0s3_sRUfA2hZ"
   },
   "source": [
    "Notice here that some of the columns that are obviously numeric have been incorrectly identified as \"strings\". Let's edit that. Otherwise we cannot aggregate any of the numeric columns."
   ]
  },
  {
   "cell_type": "code",
   "execution_count": 0,
   "metadata": {
    "application/vnd.databricks.v1+cell": {
     "cellMetadata": {},
     "inputWidgets": {},
     "nuid": "e295510c-a4c5-470d-adbf-1d740ce82739",
     "showTitle": false,
     "title": ""
    }
   },
   "outputs": [],
   "source": []
  },
  {
   "cell_type": "markdown",
   "metadata": {
    "application/vnd.databricks.v1+cell": {
     "cellMetadata": {},
     "inputWidgets": {},
     "nuid": "d6f22dd7-e7a0-46e8-b31b-dba28bac4a01",
     "showTitle": false,
     "title": ""
    },
    "id": "WZ6xYRolA2hZ"
   },
   "source": [
    "### Alright now we are ready to dig in!\n",
    "\n",
    "\n",
    "## S6.1. How many rows are in this dataset?"
   ]
  },
  {
   "cell_type": "code",
   "execution_count": 0,
   "metadata": {
    "application/vnd.databricks.v1+cell": {
     "cellMetadata": {},
     "inputWidgets": {},
     "nuid": "503d4ad4-62ca-4103-90b8-2172dc91b515",
     "showTitle": false,
     "title": ""
    }
   },
   "outputs": [],
   "source": []
  },
  {
   "cell_type": "markdown",
   "metadata": {
    "application/vnd.databricks.v1+cell": {
     "cellMetadata": {},
     "inputWidgets": {},
     "nuid": "15c320a0-fd58-4ff2-a86f-87e6d5a16e3b",
     "showTitle": false,
     "title": ""
    },
    "id": "37U0nBC7A2ha"
   },
   "source": [
    "## S6.2. How many total reviews does each host have?"
   ]
  },
  {
   "cell_type": "code",
   "execution_count": 0,
   "metadata": {
    "application/vnd.databricks.v1+cell": {
     "cellMetadata": {},
     "inputWidgets": {},
     "nuid": "3eee41e8-3d6b-4d68-af94-4f3c327c3664",
     "showTitle": false,
     "title": ""
    }
   },
   "outputs": [],
   "source": []
  },
  {
   "cell_type": "markdown",
   "metadata": {
    "application/vnd.databricks.v1+cell": {
     "cellMetadata": {},
     "inputWidgets": {},
     "nuid": "d1929005-c7a0-40f2-b6c7-23d5627641d2",
     "showTitle": false,
     "title": ""
    },
    "id": "F4FkgqjQA2ha"
   },
   "source": [
    "## S6.3. Show the min and max of all the numeric variables in the dataset"
   ]
  },
  {
   "cell_type": "code",
   "execution_count": 0,
   "metadata": {
    "application/vnd.databricks.v1+cell": {
     "cellMetadata": {},
     "inputWidgets": {},
     "nuid": "adeaa6d5-31d6-4ce2-b23c-29adf402259b",
     "showTitle": false,
     "title": ""
    }
   },
   "outputs": [],
   "source": []
  },
  {
   "cell_type": "markdown",
   "metadata": {
    "application/vnd.databricks.v1+cell": {
     "cellMetadata": {},
     "inputWidgets": {},
     "nuid": "933dfab0-5b80-4bc9-b20e-e15a22ddb9de",
     "showTitle": false,
     "title": ""
    },
    "id": "dHQZsFLHA2hb"
   },
   "source": [
    "## S6.4. Which host had the highest number of reviews?\n",
    "\n",
    "Only display the top result.\n",
    "\n",
    "Bonus: format the column names"
   ]
  },
  {
   "cell_type": "code",
   "execution_count": 0,
   "metadata": {
    "application/vnd.databricks.v1+cell": {
     "cellMetadata": {},
     "inputWidgets": {},
     "nuid": "92644ad4-e41b-4e51-9b2e-15abe660c5ab",
     "showTitle": false,
     "title": ""
    }
   },
   "outputs": [],
   "source": []
  },
  {
   "cell_type": "markdown",
   "metadata": {
    "application/vnd.databricks.v1+cell": {
     "cellMetadata": {},
     "inputWidgets": {},
     "nuid": "55331684-f54b-4d09-9312-4c8db8b2990a",
     "showTitle": false,
     "title": ""
    },
    "id": "YqR2IRlcA2hb"
   },
   "source": [
    "## S6.5. On average, how many nights did most hosts specify for a minimum?"
   ]
  },
  {
   "cell_type": "code",
   "execution_count": 0,
   "metadata": {
    "application/vnd.databricks.v1+cell": {
     "cellMetadata": {},
     "inputWidgets": {},
     "nuid": "e6b6e111-8e75-41b8-905d-5b0e0f653637",
     "showTitle": false,
     "title": ""
    }
   },
   "outputs": [],
   "source": []
  },
  {
   "cell_type": "markdown",
   "metadata": {
    "application/vnd.databricks.v1+cell": {
     "cellMetadata": {},
     "inputWidgets": {},
     "nuid": "49f58844-0ead-4b68-966a-284964b315e8",
     "showTitle": false,
     "title": ""
    },
    "id": "OOaMVohmA2hc"
   },
   "source": [
    "## S6.6. What is the most expensive neighbourhood to stay in on average?\n",
    "\n",
    "Note: only show the one result"
   ]
  },
  {
   "cell_type": "code",
   "execution_count": 0,
   "metadata": {
    "application/vnd.databricks.v1+cell": {
     "cellMetadata": {},
     "inputWidgets": {},
     "nuid": "9a7933bd-08cb-4ec3-9348-a700e32dda4b",
     "showTitle": false,
     "title": ""
    }
   },
   "outputs": [],
   "source": []
  },
  {
   "cell_type": "markdown",
   "metadata": {
    "application/vnd.databricks.v1+cell": {
     "cellMetadata": {},
     "inputWidgets": {},
     "nuid": "da4aa693-423c-4d46-883c-dfbfa9db4365",
     "showTitle": false,
     "title": ""
    },
    "id": "huvDJ1D-A2hc"
   },
   "source": [
    "## S6.7. Display a two by two table that shows the average prices by room type (private and shared only) and neighborhood group (Manhattan and Brooklyn only)"
   ]
  },
  {
   "cell_type": "code",
   "execution_count": 0,
   "metadata": {
    "application/vnd.databricks.v1+cell": {
     "cellMetadata": {},
     "inputWidgets": {},
     "nuid": "ea06db42-2566-466f-af08-c2d8191298f5",
     "showTitle": false,
     "title": ""
    }
   },
   "outputs": [],
   "source": []
  },
  {
   "cell_type": "markdown",
   "metadata": {
    "application/vnd.databricks.v1+cell": {
     "cellMetadata": {},
     "inputWidgets": {},
     "nuid": "7a3da913-6330-4979-a45a-b0f762302feb",
     "showTitle": false,
     "title": ""
    },
    "id": "vuQkSUOUA2hd"
   },
   "source": [
    "# Section 7. SQL Options in Spark\n",
    "Alirght let's apply what we learned in the lecture to a new dataset!\n",
    "\n",
    "**But first!**\n",
    "\n",
    "Let's start with Spark SQL. But first we need to create a Spark Session!"
   ]
  },
  {
   "cell_type": "code",
   "execution_count": 0,
   "metadata": {
    "application/vnd.databricks.v1+cell": {
     "cellMetadata": {},
     "inputWidgets": {},
     "nuid": "ae75120d-609f-4fc9-b899-dae3e029bb49",
     "showTitle": false,
     "title": ""
    }
   },
   "outputs": [],
   "source": []
  },
  {
   "cell_type": "markdown",
   "metadata": {
    "application/vnd.databricks.v1+cell": {
     "cellMetadata": {},
     "inputWidgets": {},
     "nuid": "39f9da02-99a2-4ff9-ad96-aabaf7a498b0",
     "showTitle": false,
     "title": ""
    },
    "id": "GFtc8b4qA2hd"
   },
   "source": [
    "### Read in our DataFrame for this Notebook\n",
    "\n",
    "For this notebook we will be using the Google Play Store csv file attached to this lecture. Let's go ahead and read it in. \n",
    "\n",
    "### About this dataset\n",
    "\n",
    "Contains a list of Google Play Store Apps and info about the apps like the category, rating, reviews, size, etc. \n",
    "\n",
    "**Source:** `googleplaystore.csv`"
   ]
  },
  {
   "cell_type": "code",
   "execution_count": 0,
   "metadata": {
    "application/vnd.databricks.v1+cell": {
     "cellMetadata": {},
     "inputWidgets": {},
     "nuid": "2eb27656-7fde-4710-a333-aca3baddf20f",
     "showTitle": false,
     "title": ""
    }
   },
   "outputs": [],
   "source": []
  },
  {
   "cell_type": "markdown",
   "metadata": {
    "application/vnd.databricks.v1+cell": {
     "cellMetadata": {},
     "inputWidgets": {},
     "nuid": "1c3221d8-a294-421d-9cee-ed207090cff4",
     "showTitle": false,
     "title": ""
    },
    "id": "_u2J5FcUA2he"
   },
   "source": [
    "## First things first\n",
    "\n",
    "Let's check out the first few lines of the dataframe to see what we are working with"
   ]
  },
  {
   "cell_type": "code",
   "execution_count": 0,
   "metadata": {
    "application/vnd.databricks.v1+cell": {
     "cellMetadata": {},
     "inputWidgets": {},
     "nuid": "3b41f5af-e4c3-4e33-a992-7c83a053013f",
     "showTitle": false,
     "title": ""
    }
   },
   "outputs": [],
   "source": []
  },
  {
   "cell_type": "markdown",
   "metadata": {
    "application/vnd.databricks.v1+cell": {
     "cellMetadata": {},
     "inputWidgets": {},
     "nuid": "709ee8c2-baea-4aa1-b3c9-496aae93bafe",
     "showTitle": false,
     "title": ""
    },
    "id": "C7kAfGgBA2he"
   },
   "source": [
    "As well as the schema to make sure all the column types were correctly inferred"
   ]
  },
  {
   "cell_type": "markdown",
   "metadata": {
    "application/vnd.databricks.v1+cell": {
     "cellMetadata": {},
     "inputWidgets": {},
     "nuid": "0eb0a3d8-600c-47c5-a6bf-e99bfea0e710",
     "showTitle": false,
     "title": ""
    },
    "id": "WVQmZlyZA2he"
   },
   "source": [
    "Looks like we need to edit some of the datatypes. We need to update Rating, Reviews and Price as integer (float for Rating) values for now, since the Size and Installs variables will need a bit more cleaning. Since we haven't been over this yet, I'm going to provide the code for you here so you can get a quick look at how it used (and how often we need it!).\n",
    "\n",
    "**make sure to change the df name to whatever you named your df**"
   ]
  },
  {
   "cell_type": "code",
   "execution_count": 0,
   "metadata": {
    "application/vnd.databricks.v1+cell": {
     "cellMetadata": {},
     "inputWidgets": {},
     "nuid": "9a0ba0f1-43c9-40a6-b364-f0c0dd9e69d1",
     "showTitle": false,
     "title": ""
    }
   },
   "outputs": [],
   "source": [
    "from pyspark.sql.types import IntegerType, FloatType\n",
    "newdf = df.withColumn(\"Rating\", df[\"Rating\"].cast(FloatType())) \\\n",
    "            .withColumn(\"Reviews\", df[\"Reviews\"].cast(IntegerType())) \\\n",
    "            .withColumn(\"Price\", df[\"Price\"].cast(IntegerType()))\n",
    "print(newdf.printSchema())\n",
    "newdf.limit(5).toPandas()"
   ]
  },
  {
   "cell_type": "markdown",
   "metadata": {
    "application/vnd.databricks.v1+cell": {
     "cellMetadata": {},
     "inputWidgets": {},
     "nuid": "5f92af69-1da6-4674-9989-fc060e54956c",
     "showTitle": false,
     "title": ""
    },
    "id": "KMktvmGEA2hf"
   },
   "source": [
    "## S7.1. Create Tempview\n",
    "\n",
    "Go ahead and create a tempview of the dataframe so we can work with it in spark sql."
   ]
  },
  {
   "cell_type": "code",
   "execution_count": 0,
   "metadata": {
    "application/vnd.databricks.v1+cell": {
     "cellMetadata": {},
     "inputWidgets": {},
     "nuid": "890f75de-2cf1-4be1-b290-cf64e57ae3d5",
     "showTitle": false,
     "title": ""
    }
   },
   "outputs": [],
   "source": []
  },
  {
   "cell_type": "markdown",
   "metadata": {
    "application/vnd.databricks.v1+cell": {
     "cellMetadata": {},
     "inputWidgets": {},
     "nuid": "84819c4d-9d9c-46ec-83f4-d5568ee6e366",
     "showTitle": false,
     "title": ""
    },
    "id": "1XPeIwSZA2hg"
   },
   "source": [
    "## S7.2. Select all apps with ratings above 4.1\n",
    "\n",
    "Use your tempview to select all apps with ratings above 4.1"
   ]
  },
  {
   "cell_type": "code",
   "execution_count": 0,
   "metadata": {
    "application/vnd.databricks.v1+cell": {
     "cellMetadata": {},
     "inputWidgets": {},
     "nuid": "3d99f38b-43d6-47df-9fba-96fc351d46f2",
     "showTitle": false,
     "title": ""
    }
   },
   "outputs": [],
   "source": []
  },
  {
   "cell_type": "markdown",
   "metadata": {
    "application/vnd.databricks.v1+cell": {
     "cellMetadata": {},
     "inputWidgets": {},
     "nuid": "169fb49a-e63c-405b-8479-816219541038",
     "showTitle": false,
     "title": ""
    },
    "id": "GBupeqzvA2hg"
   },
   "source": [
    "## S7.3. Now pass your results to an object (ie create a spark dataframe)\n",
    "\n",
    "Select just the App and Rating column where the Category is in the Comic category and the Rating is above 4.5."
   ]
  },
  {
   "cell_type": "code",
   "execution_count": 0,
   "metadata": {
    "application/vnd.databricks.v1+cell": {
     "cellMetadata": {},
     "inputWidgets": {},
     "nuid": "671ec8d1-f27f-428b-97a8-eb46f00f9510",
     "showTitle": false,
     "title": ""
    }
   },
   "outputs": [],
   "source": []
  },
  {
   "cell_type": "markdown",
   "metadata": {
    "application/vnd.databricks.v1+cell": {
     "cellMetadata": {},
     "inputWidgets": {},
     "nuid": "018765af-1aae-467e-a178-6e2544fa083b",
     "showTitle": false,
     "title": ""
    },
    "id": "JEcxnhMaA2hg"
   },
   "source": [
    "## S7.4. Which category has the most cumulative reviews\n",
    "\n",
    "Only select the one category with the most reivews. \n",
    "\n",
    "*Note: will require adding all the review together for each category*"
   ]
  },
  {
   "cell_type": "code",
   "execution_count": 0,
   "metadata": {
    "application/vnd.databricks.v1+cell": {
     "cellMetadata": {},
     "inputWidgets": {},
     "nuid": "f92d2f91-889e-465e-9c80-202755f37ed4",
     "showTitle": false,
     "title": ""
    }
   },
   "outputs": [],
   "source": []
  },
  {
   "cell_type": "markdown",
   "metadata": {
    "application/vnd.databricks.v1+cell": {
     "cellMetadata": {},
     "inputWidgets": {},
     "nuid": "7ce332f4-a731-4cbb-bb2e-f273e98cd2f6",
     "showTitle": false,
     "title": ""
    },
    "id": "Kgf97FnZA2hh"
   },
   "source": [
    "## S7.5. Which App has the most reviews?\n",
    "\n",
    "Display ONLY the top result\n",
    "\n",
    "Include only the App column and the Reviews column."
   ]
  },
  {
   "cell_type": "code",
   "execution_count": 0,
   "metadata": {
    "application/vnd.databricks.v1+cell": {
     "cellMetadata": {},
     "inputWidgets": {},
     "nuid": "f00491f0-7400-4d6f-878d-5f3ed869e5b0",
     "showTitle": false,
     "title": ""
    }
   },
   "outputs": [],
   "source": []
  },
  {
   "cell_type": "markdown",
   "metadata": {
    "application/vnd.databricks.v1+cell": {
     "cellMetadata": {},
     "inputWidgets": {},
     "nuid": "a5e7ff3f-5732-4b12-88f9-37e7f3138432",
     "showTitle": false,
     "title": ""
    },
    "id": "iQ4o-lr1A2hh"
   },
   "source": [
    "## S7.6. Select all apps that contain the word 'dating' anywhere in the title\n",
    "\n",
    "*Note: we did not cover this in the lecture. You'll have to use your SQL knowledge :) Google it if you need to.*"
   ]
  },
  {
   "cell_type": "code",
   "execution_count": 0,
   "metadata": {
    "application/vnd.databricks.v1+cell": {
     "cellMetadata": {},
     "inputWidgets": {},
     "nuid": "95223a02-a423-468e-8802-7b6f62636f34",
     "showTitle": false,
     "title": ""
    }
   },
   "outputs": [],
   "source": []
  },
  {
   "cell_type": "markdown",
   "metadata": {
    "application/vnd.databricks.v1+cell": {
     "cellMetadata": {},
     "inputWidgets": {},
     "nuid": "4956934f-5f5e-41d7-8f62-231e96cc7a81",
     "showTitle": false,
     "title": ""
    },
    "id": "70dPEHBHA2hi"
   },
   "source": [
    "## S7.7. Use SQL Transformer to display how many free apps there are in this list"
   ]
  },
  {
   "cell_type": "code",
   "execution_count": 0,
   "metadata": {
    "application/vnd.databricks.v1+cell": {
     "cellMetadata": {},
     "inputWidgets": {},
     "nuid": "70d9f320-f823-4954-9a69-198ce033852a",
     "showTitle": false,
     "title": ""
    }
   },
   "outputs": [],
   "source": []
  },
  {
   "cell_type": "markdown",
   "metadata": {
    "application/vnd.databricks.v1+cell": {
     "cellMetadata": {},
     "inputWidgets": {},
     "nuid": "317ad103-d7b8-4a06-9425-fa9a5e7ee1ed",
     "showTitle": false,
     "title": ""
    },
    "id": "Vw-skQ0ZA2hi"
   },
   "source": [
    "## S7.8. What is the most popular Genre?\n",
    "\n",
    "Which genre appears most often in the dataframe. Show only the top result."
   ]
  },
  {
   "cell_type": "code",
   "execution_count": 0,
   "metadata": {
    "application/vnd.databricks.v1+cell": {
     "cellMetadata": {},
     "inputWidgets": {},
     "nuid": "9b5bf24d-6a81-4f7b-a3bb-1faf9400d87f",
     "showTitle": false,
     "title": ""
    }
   },
   "outputs": [],
   "source": []
  },
  {
   "cell_type": "markdown",
   "metadata": {
    "application/vnd.databricks.v1+cell": {
     "cellMetadata": {},
     "inputWidgets": {},
     "nuid": "f56f52b2-cbf3-4ad5-81d9-0c6c01a6d34d",
     "showTitle": false,
     "title": ""
    },
    "id": "Q6AQfSwBA2hj"
   },
   "source": [
    "## S7.9. Select all the apps in the 'Tools' genre that have more than 100 reviews"
   ]
  },
  {
   "cell_type": "code",
   "execution_count": 0,
   "metadata": {
    "application/vnd.databricks.v1+cell": {
     "cellMetadata": {},
     "inputWidgets": {},
     "nuid": "901f81da-0801-42b4-8616-03a7ae525d8c",
     "showTitle": false,
     "title": ""
    }
   },
   "outputs": [],
   "source": []
  },
  {
   "cell_type": "markdown",
   "metadata": {
    "application/vnd.databricks.v1+cell": {
     "cellMetadata": {},
     "inputWidgets": {},
     "nuid": "4b748f45-24db-46c0-9ab3-4bae8d317ede",
     "showTitle": false,
     "title": ""
    }
   },
   "source": [
    "### That's it! Great Job!"
   ]
  }
 ],
 "metadata": {
  "application/vnd.databricks.v1+notebook": {
   "dashboards": [],
   "environmentMetadata": null,
   "language": "python",
   "notebookMetadata": {},
   "notebookName": "spark_exercise_2",
   "widgets": {}
  },
  "colab": {
   "provenance": []
  },
  "kernelspec": {
   "display_name": "Python 3 (ipykernel)",
   "language": "python",
   "name": "python3"
  },
  "language_info": {
   "codemirror_mode": {
    "name": "ipython",
    "version": 3
   },
   "file_extension": ".py",
   "mimetype": "text/x-python",
   "name": "python",
   "nbconvert_exporter": "python",
   "pygments_lexer": "ipython3",
   "version": "3.9.6"
  }
 },
 "nbformat": 4,
 "nbformat_minor": 0
}
