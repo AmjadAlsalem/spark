{
 "cells": [
  {
   "cell_type": "markdown",
   "metadata": {
    "application/vnd.databricks.v1+cell": {
     "cellMetadata": {},
     "inputWidgets": {},
     "nuid": "832cd450-557f-4ad5-a90b-f854673a9071",
     "showTitle": false,
     "title": ""
    }
   },
   "source": [
    "<div  align='center'><img src='https://s3.amazonaws.com/weclouddata/images/logos/wcd_logo_new_2.png' width='30%'></div >\n",
    "\n",
    "<p style=\"font-size:20px;text-align:center\"><b><font color='#F39A54'>Data Engineering Diploma</font></b></p>\n",
    "\n",
    "<h2 align='center'> WeCloudData Data Engineer Spark Exercise 2 </h2>\n",
    "\n",
    "<br>"
   ]
  },
  {
   "cell_type": "markdown",
   "metadata": {
    "application/vnd.databricks.v1+cell": {
     "cellMetadata": {},
     "inputWidgets": {},
     "nuid": "e692136f-ee70-4572-8834-a695f58411cb",
     "showTitle": false,
     "title": ""
    }
   },
   "source": [
    "Please download data from [HERE](s3://weclouddata/data/data/pyspark_exercises_data.zip)"
   ]
  },
  {
   "cell_type": "markdown",
   "metadata": {
    "application/vnd.databricks.v1+cell": {
     "cellMetadata": {},
     "inputWidgets": {},
     "nuid": "ad68e3c8-c171-4195-8b6d-fab2e8be9b36",
     "showTitle": false,
     "title": ""
    },
    "id": "myrIYVhmA2hG"
   },
   "source": [
    "# Section 4. Search and Filter DataFrames in PySpark Homework Solutions"
   ]
  },
  {
   "cell_type": "code",
   "execution_count": 0,
   "metadata": {
    "application/vnd.databricks.v1+cell": {
     "cellMetadata": {},
     "inputWidgets": {},
     "nuid": "4e106958-ef15-43f2-9884-ea8b7a9ddf9e",
     "showTitle": false,
     "title": ""
    },
    "id": "6fekVpI6A2hG",
    "outputId": "90038f1a-277d-42af-caf0-fb071248e518"
   },
   "outputs": [],
   "source": [
    "# First let's create our PySpark instance\n",
    "# import findspark\n",
    "# findspark.init()\n",
    "\n",
    "import pyspark # only run after findspark.init()\n",
    "from pyspark.sql import SparkSession\n",
    "# May take awhile locally\n",
    "spark = SparkSession.builder.appName(\"FunctionsHW\").getOrCreate()\n",
    "\n",
    "cores = spark._jsc.sc().getExecutorMemoryStatus().keySet().size()\n",
    "print(\"You are working with\", cores, \"core(s)\")\n",
    "spark"
   ]
  },
  {
   "cell_type": "markdown",
   "metadata": {
    "application/vnd.databricks.v1+cell": {
     "cellMetadata": {},
     "inputWidgets": {},
     "nuid": "dcda1086-280e-4454-bb8e-e4147ea69111",
     "showTitle": false,
     "title": ""
    },
    "id": "HPG15cbDA2hH"
   },
   "source": [
    "## Read in the DataFrame for this Notebook\n",
    "\n",
    "We will be continuing to use the fifa19.csv file for this notebook. Make sure that you are writting the correct path to the file. "
   ]
  },
  {
   "cell_type": "code",
   "execution_count": 0,
   "metadata": {
    "application/vnd.databricks.v1+cell": {
     "cellMetadata": {},
     "inputWidgets": {},
     "nuid": "e2fdd493-0a78-49f6-9811-ece07dff1bbc",
     "showTitle": false,
     "title": ""
    },
    "id": "rNr8YfHCA2hH"
   },
   "outputs": [],
   "source": [
    "fifa = spark.read.csv('Datasets/fifa19.csv',inferSchema=True,header=True)"
   ]
  },
  {
   "cell_type": "markdown",
   "metadata": {
    "application/vnd.databricks.v1+cell": {
     "cellMetadata": {},
     "inputWidgets": {},
     "nuid": "81b7a95c-4cb2-4f58-b0d5-846847b86f8f",
     "showTitle": false,
     "title": ""
    },
    "id": "jadmM3x8A2hH"
   },
   "source": [
    "Use the .toPandas() method to view the first few lines of the dataset so we know what we are working with. "
   ]
  },
  {
   "cell_type": "code",
   "execution_count": 0,
   "metadata": {
    "application/vnd.databricks.v1+cell": {
     "cellMetadata": {},
     "inputWidgets": {},
     "nuid": "0210fa29-2059-47db-9c29-3d3d7b8e6afe",
     "showTitle": false,
     "title": ""
    },
    "id": "1g8sjfIRA2hH",
    "outputId": "5215581f-801c-4a99-de6f-d90171dfad1e"
   },
   "outputs": [],
   "source": [
    "fifa.limit(4).toPandas()"
   ]
  },
  {
   "cell_type": "markdown",
   "metadata": {
    "application/vnd.databricks.v1+cell": {
     "cellMetadata": {},
     "inputWidgets": {},
     "nuid": "fe53df96-f59e-4eab-882f-6014fd1a34cb",
     "showTitle": false,
     "title": ""
    },
    "id": "god9VAIzA2hI"
   },
   "source": [
    "Now print the schema of the dataset so we can see the data types of all the varaibles. "
   ]
  },
  {
   "cell_type": "code",
   "execution_count": 0,
   "metadata": {
    "application/vnd.databricks.v1+cell": {
     "cellMetadata": {},
     "inputWidgets": {},
     "nuid": "94753b9e-0970-413c-9adb-972d511fd8e7",
     "showTitle": false,
     "title": ""
    },
    "id": "mibK8aWcA2hI",
    "outputId": "1c172317-2fbb-4bac-c7d8-37b81569c648"
   },
   "outputs": [],
   "source": [
    "print(fifa.printSchema())"
   ]
  },
  {
   "cell_type": "code",
   "execution_count": 0,
   "metadata": {
    "application/vnd.databricks.v1+cell": {
     "cellMetadata": {},
     "inputWidgets": {},
     "nuid": "35234d16-3270-436f-ad35-d785166bf9f0",
     "showTitle": false,
     "title": ""
    },
    "id": "-wd-5pfiA2hI"
   },
   "outputs": [],
   "source": [
    "from pyspark.sql.functions import *"
   ]
  },
  {
   "cell_type": "markdown",
   "metadata": {
    "application/vnd.databricks.v1+cell": {
     "cellMetadata": {},
     "inputWidgets": {},
     "nuid": "c56fd64d-41c2-4e34-8c14-df0124f7801c",
     "showTitle": false,
     "title": ""
    },
    "id": "U5UQF00QA2hI"
   },
   "source": [
    "## S4.1. Select the Name and Position of each player in the dataframe"
   ]
  },
  {
   "cell_type": "code",
   "execution_count": 0,
   "metadata": {
    "application/vnd.databricks.v1+cell": {
     "cellMetadata": {},
     "inputWidgets": {},
     "nuid": "c0be24b8-6c8d-43f2-81d1-fb3344f64833",
     "showTitle": false,
     "title": ""
    },
    "id": "LMBXijYOA2hJ",
    "outputId": "4bf04a3c-7657-4ac6-f566-c2a1a57b5370"
   },
   "outputs": [],
   "source": [
    "fifa.select(['Name','Position','Release Clause']).show(5,False)"
   ]
  },
  {
   "cell_type": "markdown",
   "metadata": {
    "application/vnd.databricks.v1+cell": {
     "cellMetadata": {},
     "inputWidgets": {},
     "nuid": "b2bdfa8e-a89c-4c32-9b3b-55983fda170c",
     "showTitle": false,
     "title": ""
    },
    "id": "8tg2v9YuA2hJ"
   },
   "source": [
    "## S4.1.1 Display the same results from above sorted by the players names"
   ]
  },
  {
   "cell_type": "code",
   "execution_count": 0,
   "metadata": {
    "application/vnd.databricks.v1+cell": {
     "cellMetadata": {},
     "inputWidgets": {},
     "nuid": "482c2811-d1e2-4dc1-a119-6076a944be49",
     "showTitle": false,
     "title": ""
    },
    "id": "coakTAwaA2hJ",
    "outputId": "0da05f54-dd3b-4f39-f123-b218f45e0dd8"
   },
   "outputs": [],
   "source": [
    "fifa.select(['Name','Position']).orderBy('Name').show(5)"
   ]
  },
  {
   "cell_type": "markdown",
   "metadata": {
    "application/vnd.databricks.v1+cell": {
     "cellMetadata": {},
     "inputWidgets": {},
     "nuid": "d73c9fb4-e838-45f6-aaf3-4906c3e31fda",
     "showTitle": false,
     "title": ""
    },
    "id": "6JWsIpZaA2hK"
   },
   "source": [
    "## S4.2. Select only the players who belong to a club beginning with FC"
   ]
  },
  {
   "cell_type": "code",
   "execution_count": 0,
   "metadata": {
    "application/vnd.databricks.v1+cell": {
     "cellMetadata": {},
     "inputWidgets": {},
     "nuid": "f9730ef1-6f88-4035-8e11-b413c2542f26",
     "showTitle": false,
     "title": ""
    },
    "id": "69NzrD7gA2hK",
    "outputId": "6e1472e7-557c-4f52-8a2a-0f8ee8c5ede4"
   },
   "outputs": [],
   "source": [
    "# One way\n",
    "fifa.select(\"Name\",\"Club\").where(fifa.Club.like(\"FC%\")).show(5, False)"
   ]
  },
  {
   "cell_type": "code",
   "execution_count": 0,
   "metadata": {
    "application/vnd.databricks.v1+cell": {
     "cellMetadata": {},
     "inputWidgets": {},
     "nuid": "fb8b46d4-2c37-4619-9130-cb8151f7fb93",
     "showTitle": false,
     "title": ""
    },
    "id": "qOGk-_4HA2hK",
    "outputId": "95325446-56c8-4d81-8848-6f7193be4b4d"
   },
   "outputs": [],
   "source": [
    "# Another way \n",
    "fifa.select(\"Name\",\"Club\").where(fifa.Club.startswith(\"FC\")).limit(4).toPandas()"
   ]
  },
  {
   "cell_type": "markdown",
   "metadata": {
    "application/vnd.databricks.v1+cell": {
     "cellMetadata": {},
     "inputWidgets": {},
     "nuid": "7f8445b5-a5fe-4bf0-8e98-ca4f3951ee6f",
     "showTitle": false,
     "title": ""
    },
    "id": "XkC0dlFhA2hL"
   },
   "source": [
    "## S4.3. Who is the oldest player in the dataset and how old are they?\n",
    "\n",
    "Display only the name and age of the oldest player."
   ]
  },
  {
   "cell_type": "code",
   "execution_count": 0,
   "metadata": {
    "application/vnd.databricks.v1+cell": {
     "cellMetadata": {},
     "inputWidgets": {},
     "nuid": "b45d405f-96f3-4f6e-9649-d57dce8c1081",
     "showTitle": false,
     "title": ""
    },
    "id": "fZsKkm34A2hM",
    "outputId": "53fa6c1b-faff-46de-9c3c-e6faf8003855"
   },
   "outputs": [],
   "source": [
    "fifa.select(\"Name\",\"Age\").sort(desc(\"Age\")).show(1)"
   ]
  },
  {
   "cell_type": "markdown",
   "metadata": {
    "application/vnd.databricks.v1+cell": {
     "cellMetadata": {},
     "inputWidgets": {},
     "nuid": "b9d10da0-43a4-4fc8-bcdd-47c0d4ce8d22",
     "showTitle": false,
     "title": ""
    },
    "id": "FVtwIE1aA2hN"
   },
   "source": [
    "## S4.4. Select only the following players from the dataframe:\n",
    "\n",
    " - L. Messi\n",
    " - Cristiano Ronaldo"
   ]
  },
  {
   "cell_type": "code",
   "execution_count": 0,
   "metadata": {
    "application/vnd.databricks.v1+cell": {
     "cellMetadata": {},
     "inputWidgets": {},
     "nuid": "b3293158-2149-4515-89c7-94c1ac26817d",
     "showTitle": false,
     "title": ""
    },
    "id": "l6pyzyLsA2hO",
    "outputId": "8c9e116d-7d36-49a2-f440-a4e6d3c25d3a"
   },
   "outputs": [],
   "source": [
    "fifa[fifa.Name.isin(\"L. Messi\", \"Cristiano Ronaldo\")].limit(4).toPandas()"
   ]
  },
  {
   "cell_type": "markdown",
   "metadata": {
    "application/vnd.databricks.v1+cell": {
     "cellMetadata": {},
     "inputWidgets": {},
     "nuid": "27f1e6a0-994a-4ec9-a09a-d0656b48329c",
     "showTitle": false,
     "title": ""
    },
    "id": "ZWSYqBK2A2hP"
   },
   "source": [
    "## S4.5. Can you select the first character from the Release Clause variable which indicates the currency used?"
   ]
  },
  {
   "cell_type": "code",
   "execution_count": 0,
   "metadata": {
    "application/vnd.databricks.v1+cell": {
     "cellMetadata": {},
     "inputWidgets": {},
     "nuid": "0fb5b9cc-18ae-4108-82ea-821f3ae61da9",
     "showTitle": false,
     "title": ""
    },
    "id": "1Cf_Ci_wA2hP",
    "outputId": "846f4ee4-11f1-483d-9e83-ccc7863ec2d1"
   },
   "outputs": [],
   "source": [
    "fifa.select(\"Release Clause\",fifa[\"Release Clause\"].substr(1,1)).show(5,False)"
   ]
  },
  {
   "cell_type": "markdown",
   "metadata": {
    "application/vnd.databricks.v1+cell": {
     "cellMetadata": {},
     "inputWidgets": {},
     "nuid": "7270bcb2-ffc5-49ce-9328-09d29343c462",
     "showTitle": false,
     "title": ""
    },
    "id": "158LSrLSA2hQ"
   },
   "source": [
    "## S4.6. Can you select only the players who are over the age of 40?"
   ]
  },
  {
   "cell_type": "code",
   "execution_count": 0,
   "metadata": {
    "application/vnd.databricks.v1+cell": {
     "cellMetadata": {},
     "inputWidgets": {},
     "nuid": "ed2ae1f7-d178-472c-8495-7759afabcb4a",
     "showTitle": false,
     "title": ""
    },
    "id": "jZfLO1pTA2hQ",
    "outputId": "57f35bb4-9e2f-473c-a645-5b38af07ec38"
   },
   "outputs": [],
   "source": [
    "fifa.filter(\"Age>40\").limit(4).toPandas()"
   ]
  },
  {
   "cell_type": "markdown",
   "metadata": {
    "application/vnd.databricks.v1+cell": {
     "cellMetadata": {},
     "inputWidgets": {},
     "nuid": "4d80b130-9c44-4151-a2cc-f46e6b3a468f",
     "showTitle": false,
     "title": ""
    },
    "id": "gbsfmpMQA2hQ"
   },
   "source": [
    "### That's is for now... Great Job!"
   ]
  },
  {
   "cell_type": "markdown",
   "metadata": {
    "application/vnd.databricks.v1+cell": {
     "cellMetadata": {},
     "inputWidgets": {},
     "nuid": "a80645cd-b914-451d-b016-da2668840d4e",
     "showTitle": false,
     "title": ""
    },
    "id": "3NxCZBQCA2hR"
   },
   "source": [
    "# Section 5. Joining and Appending DataFrames in PySpark HW Solutions\n",
    "\n",
    "Now it's time to test your knowledge and further engrain the concepts we touched on in the lectures. Let's go ahead and get started.\n",
    "\n",
    "\n",
    "\n",
    "\n",
    "**As always let's start our Spark instance.**"
   ]
  },
  {
   "cell_type": "code",
   "execution_count": 0,
   "metadata": {
    "application/vnd.databricks.v1+cell": {
     "cellMetadata": {},
     "inputWidgets": {},
     "nuid": "f653deff-46c1-4968-b7e2-455ad07d5324",
     "showTitle": false,
     "title": ""
    },
    "id": "j8e-ZVMOA2hR",
    "outputId": "426e6387-d9f8-4833-ecef-9a97920ad2b1"
   },
   "outputs": [],
   "source": [
    "# import findspark\n",
    "# findspark.init()\n",
    "\n",
    "import pyspark # only run after findspark.init()\n",
    "from pyspark.sql import SparkSession\n",
    "# May take awhile locally\n",
    "spark = SparkSession.builder.appName(\"joins\").getOrCreate()\n",
    "\n",
    "cores = spark._jsc.sc().getExecutorMemoryStatus().keySet().size()\n",
    "print(\"You are working with\", cores, \"core(s)\")\n",
    "spark"
   ]
  },
  {
   "cell_type": "code",
   "execution_count": 0,
   "metadata": {
    "application/vnd.databricks.v1+cell": {
     "cellMetadata": {},
     "inputWidgets": {},
     "nuid": "b2303766-7d25-4071-b030-0808147f416a",
     "showTitle": false,
     "title": ""
    },
    "id": "mRGFWob4A2hS",
    "outputId": "933366ea-ab52-4a27-e321-d7f9c79eeff1"
   },
   "outputs": [],
   "source": [
    "import os\n",
    "\n",
    "path = \"Datasets/uw-madison-courses/\"\n",
    "\n",
    "df_list = []\n",
    "for filename in os.listdir(path):\n",
    "    if filename.endswith(\".csv\"):\n",
    "        filename_list = filename.split(\".\") #separate path from .csv\n",
    "        df_name = filename_list[0]\n",
    "        df = spark.read.csv(path+filename,inferSchema=True,header=True)\n",
    "        df.name = df_name\n",
    "        df_list.append(df_name)\n",
    "        exec(df_name + ' = df')\n",
    "        \n",
    "# QA\n",
    "print(\"Full list of dfs:\")\n",
    "print(df_list)"
   ]
  },
  {
   "cell_type": "markdown",
   "metadata": {
    "application/vnd.databricks.v1+cell": {
     "cellMetadata": {},
     "inputWidgets": {},
     "nuid": "c26c7eb7-a22d-4d96-9702-94631ba2588c",
     "showTitle": false,
     "title": ""
    },
    "id": "_EuRKpsEA2hS"
   },
   "source": [
    "Now check the contents of a few of the dataframes that were read in above."
   ]
  },
  {
   "cell_type": "code",
   "execution_count": 0,
   "metadata": {
    "application/vnd.databricks.v1+cell": {
     "cellMetadata": {},
     "inputWidgets": {},
     "nuid": "4043ead0-7ed4-4f18-91e5-6e52234d0869",
     "showTitle": false,
     "title": ""
    },
    "id": "4byYBjgtA2hT",
    "outputId": "f00b490b-3ebf-48b4-e5ad-c242325b7ba9"
   },
   "outputs": [],
   "source": [
    "grade_distributions.limit(4).toPandas()"
   ]
  },
  {
   "cell_type": "markdown",
   "metadata": {
    "application/vnd.databricks.v1+cell": {
     "cellMetadata": {},
     "inputWidgets": {},
     "nuid": "ce59b269-25c6-484d-8fca-30fd242790a5",
     "showTitle": false,
     "title": ""
    },
    "id": "T31oiO0lA2hT"
   },
   "source": [
    "## S5.1.0. Can you assign the room numbers to each section of each course?\n",
    "\n",
    "Show only the rooms uuid, facility code, room number, term code and the name of the course from the course_offerings table."
   ]
  },
  {
   "cell_type": "code",
   "execution_count": 0,
   "metadata": {
    "application/vnd.databricks.v1+cell": {
     "cellMetadata": {},
     "inputWidgets": {},
     "nuid": "0531d90b-5624-4ab3-a3a0-1fd809572ce7",
     "showTitle": false,
     "title": ""
    },
    "id": "zMyx1Pe7A2hT",
    "outputId": "95217335-bd4f-4281-d8fb-6d4a1c410df2"
   },
   "outputs": [],
   "source": [
    "step1 = rooms.join(sections, rooms.uuid == sections.room_uuid, how='left').select([rooms.uuid,rooms.facility_code,sections.course_offering_uuid,'number'])\n",
    "step1.limit(4).toPandas()"
   ]
  },
  {
   "cell_type": "code",
   "execution_count": 0,
   "metadata": {
    "application/vnd.databricks.v1+cell": {
     "cellMetadata": {},
     "inputWidgets": {},
     "nuid": "219611a8-069c-4e9f-9c22-ddf8506c3cef",
     "showTitle": false,
     "title": ""
    },
    "id": "gE_MYPnTA2hU",
    "outputId": "f01bbc23-9b72-4d64-8709-17a4b9b026c6"
   },
   "outputs": [],
   "source": [
    "step2 = step1.join(course_offerings, step1.course_offering_uuid == course_offerings.uuid, how='left').select([rooms.uuid,rooms.facility_code,'number','term_code','name'])\n",
    "step2.limit(4).toPandas()"
   ]
  },
  {
   "cell_type": "markdown",
   "metadata": {
    "application/vnd.databricks.v1+cell": {
     "cellMetadata": {},
     "inputWidgets": {},
     "nuid": "1ca896a4-21d0-4027-a0c8-f8f82ced3802",
     "showTitle": false,
     "title": ""
    },
    "id": "d5GR5QvJA2hU"
   },
   "source": [
    "## S5.1.1. Now show same output as above but for only facility number 0469 (facility_code)"
   ]
  },
  {
   "cell_type": "code",
   "execution_count": 0,
   "metadata": {
    "application/vnd.databricks.v1+cell": {
     "cellMetadata": {},
     "inputWidgets": {},
     "nuid": "4be2c26a-9438-4c82-96e7-3ab676ad584b",
     "showTitle": false,
     "title": ""
    },
    "id": "Jjm2VXk9A2hU",
    "outputId": "cf773fcc-5995-4c25-fa2e-f1fdb42d034f"
   },
   "outputs": [],
   "source": [
    "step3 = step2.filter(step2.facility_code == \"0469\")\n",
    "step3.limit(4).toPandas()"
   ]
  },
  {
   "cell_type": "markdown",
   "metadata": {
    "application/vnd.databricks.v1+cell": {
     "cellMetadata": {},
     "inputWidgets": {},
     "nuid": "6899767a-8222-4b4e-8497-2942905d86d7",
     "showTitle": false,
     "title": ""
    },
    "id": "CfRRWWP9A2hU"
   },
   "source": [
    "## S5.2. Count how many sections are offered for each subject for each facility\n",
    "\n",
    "*Note: this will involve a groupby*"
   ]
  },
  {
   "cell_type": "code",
   "execution_count": 0,
   "metadata": {
    "application/vnd.databricks.v1+cell": {
     "cellMetadata": {},
     "inputWidgets": {},
     "nuid": "12488598-0d07-4e70-b4fb-a06d9d2b0845",
     "showTitle": false,
     "title": ""
    },
    "id": "c-zVfA-1A2hU",
    "outputId": "82eb6d8a-2009-4388-bc38-d387531a377e"
   },
   "outputs": [],
   "source": [
    "step1 = subjects.join(subject_memberships, subjects.code == subject_memberships.subject_code, how='inner').select(['name','course_offering_uuid']).withColumnRenamed('name','subject_name')\n",
    "step1.limit(4).toPandas()"
   ]
  },
  {
   "cell_type": "code",
   "execution_count": 0,
   "metadata": {
    "application/vnd.databricks.v1+cell": {
     "cellMetadata": {},
     "inputWidgets": {},
     "nuid": "10480785-951a-43ba-9101-3dbcbf4a9019",
     "showTitle": false,
     "title": ""
    },
    "id": "_0s2uvEGA2hV",
    "outputId": "18b6aa1d-b7ff-41c6-d057-c8d3aa89f674"
   },
   "outputs": [],
   "source": [
    "step2 = step1.join(sections, step1.course_offering_uuid == sections.course_offering_uuid, how='left').select(['subject_name','room_uuid'])\n",
    "step2.limit(4).toPandas()"
   ]
  },
  {
   "cell_type": "code",
   "execution_count": 0,
   "metadata": {
    "application/vnd.databricks.v1+cell": {
     "cellMetadata": {},
     "inputWidgets": {},
     "nuid": "be0726a0-4e0c-436e-bad6-218bbee7d712",
     "showTitle": false,
     "title": ""
    },
    "id": "hnyhyfFUA2hV",
    "outputId": "9603063f-ba42-4270-8752-319a8bcf0234"
   },
   "outputs": [],
   "source": [
    "# I added a filter to make this a little simpler\n",
    "step3 = step2.join(rooms, step2.room_uuid == rooms.uuid, how='left').filter('facility_code IN(\"0140\",\"0545\",\"0469\",\"0031\")').select(['subject_name','facility_code','room_code'])\n",
    "step3.limit(4).toPandas()"
   ]
  },
  {
   "cell_type": "code",
   "execution_count": 0,
   "metadata": {
    "application/vnd.databricks.v1+cell": {
     "cellMetadata": {},
     "inputWidgets": {},
     "nuid": "0ede6e07-360a-452c-883d-326b32d56255",
     "showTitle": false,
     "title": ""
    },
    "id": "ccPHxn64A2hV",
    "outputId": "9be96ece-8fe5-41c2-c118-065b26419f81"
   },
   "outputs": [],
   "source": [
    "# Option 1: Group by facility code and do a count\n",
    "step3.groupBy('facility_code','subject_name').count().orderBy(\"facility_code\").show(10, False) # False prevents truncation of column content"
   ]
  },
  {
   "cell_type": "code",
   "execution_count": 0,
   "metadata": {
    "application/vnd.databricks.v1+cell": {
     "cellMetadata": {},
     "inputWidgets": {},
     "nuid": "50667ef3-2311-40a3-9af1-9a44a2a028ad",
     "showTitle": false,
     "title": ""
    },
    "id": "lWAz0V7vA2hV",
    "outputId": "d5a2f914-bdde-4f08-f98d-9f7e1cd8d9d3"
   },
   "outputs": [],
   "source": [
    "# Option 2: Groupby subject name and pivot the facility code\n",
    "# to see each facility side by side within each subject\n",
    "step3.groupBy(\"subject_name\").pivot(\"facility_code\").count().show(10, False)"
   ]
  },
  {
   "cell_type": "markdown",
   "metadata": {
    "application/vnd.databricks.v1+cell": {
     "cellMetadata": {},
     "inputWidgets": {},
     "nuid": "387e4ac6-9d4e-48bd-8997-29d1ab6374c4",
     "showTitle": false,
     "title": ""
    },
    "id": "lluuwtANA2hW"
   },
   "source": [
    "## S5.3. What are the hardest classes?\n",
    "\n",
    "Let's see if we can figure out which classes are the hardest by seeing how many students failed. Note that you will first need to aggregate the grades table by the course uuid to include all sections. Show the name of the course as well that you will need to get from the course_offering table."
   ]
  },
  {
   "cell_type": "code",
   "execution_count": 0,
   "metadata": {
    "application/vnd.databricks.v1+cell": {
     "cellMetadata": {},
     "inputWidgets": {},
     "nuid": "4aba27a3-34b7-4633-a808-8467c10cb15e",
     "showTitle": false,
     "title": ""
    },
    "id": "hZMdzHwXA2hW",
    "outputId": "efdde7ed-e717-4eed-a635-a6236c0b8bbf"
   },
   "outputs": [],
   "source": [
    "grade_distributions.limit(4).toPandas()"
   ]
  },
  {
   "cell_type": "code",
   "execution_count": 0,
   "metadata": {
    "application/vnd.databricks.v1+cell": {
     "cellMetadata": {},
     "inputWidgets": {},
     "nuid": "8b4fb0ea-a361-4e79-ad9d-5902dc6a80eb",
     "showTitle": false,
     "title": ""
    },
    "id": "ytNzVJa6A2hW",
    "outputId": "ab1573ca-5e92-42aa-b4dd-88613fc7e1f9"
   },
   "outputs": [],
   "source": [
    "course_offerings.limit(4).toPandas()"
   ]
  },
  {
   "cell_type": "code",
   "execution_count": 0,
   "metadata": {
    "application/vnd.databricks.v1+cell": {
     "cellMetadata": {},
     "inputWidgets": {},
     "nuid": "55e53087-c367-472a-866d-5ae19501230c",
     "showTitle": false,
     "title": ""
    },
    "id": "MMZn8OCAA2hW",
    "outputId": "1c4c947f-17d6-4483-aa24-71bd951e18d4"
   },
   "outputs": [],
   "source": [
    "step1 = grade_distributions.groupBy(\"course_offering_uuid\").sum(\"f_count\")\n",
    "step1.limit(4).toPandas()"
   ]
  },
  {
   "cell_type": "code",
   "execution_count": 0,
   "metadata": {
    "application/vnd.databricks.v1+cell": {
     "cellMetadata": {},
     "inputWidgets": {},
     "nuid": "04b5ea1f-2f4f-4377-89f2-5caaca3716ae",
     "showTitle": false,
     "title": ""
    },
    "id": "aZTYWD94A2hW",
    "outputId": "07e62df2-127e-4c77-cfec-68bb88dff3b1"
   },
   "outputs": [],
   "source": [
    "step2 = step1.join(course_offerings, step1.course_offering_uuid == course_offerings.uuid, how='left').select(['name','sum(f_count)']).orderBy(\"sum(f_count)\")\n",
    "step2.toPandas().tail(5)"
   ]
  },
  {
   "cell_type": "markdown",
   "metadata": {
    "application/vnd.databricks.v1+cell": {
     "cellMetadata": {},
     "inputWidgets": {},
     "nuid": "c853397f-2538-4c52-8104-a0faeb86e430",
     "showTitle": false,
     "title": ""
    },
    "id": "SlahTllrA2hX"
   },
   "source": [
    "## Challenge Question: Automating data entry errors\n",
    "\n",
    "We see in the dataframe below that there are several typos of various animal names. If this was a large database of several millions of records, correcting these errors would be way too labor intensive. How can we automate correcting these errors?\n",
    "\n",
    "*Hint: Leven...*"
   ]
  },
  {
   "cell_type": "code",
   "execution_count": 0,
   "metadata": {
    "application/vnd.databricks.v1+cell": {
     "cellMetadata": {},
     "inputWidgets": {},
     "nuid": "a801a44a-3382-407b-853e-38299a6c44c9",
     "showTitle": false,
     "title": ""
    },
    "id": "obR7YgfYA2hX",
    "outputId": "74cd965e-c5ab-467d-b806-d917893fe1db"
   },
   "outputs": [],
   "source": [
    "values = [('Monkey',10),('Monkay',36),('Mnky',123), \\\n",
    "          ('Elephant',48),('Elefant',16),('Ellafant',1), \\\n",
    "          ('Hippopotamus',48),('Hipopotamus',16),('Hippo',1)]\n",
    "zoo = spark.createDataFrame(values,['Animal','age'])\n",
    "zoo.show()"
   ]
  },
  {
   "cell_type": "code",
   "execution_count": 0,
   "metadata": {
    "application/vnd.databricks.v1+cell": {
     "cellMetadata": {},
     "inputWidgets": {},
     "nuid": "d91a2669-f592-4aa7-9236-5e6fc5cca6c5",
     "showTitle": false,
     "title": ""
    },
    "id": "LTmYkbw0A2hX",
    "outputId": "dfc58e95-d952-4b46-c762-8d2b78e51042"
   },
   "outputs": [],
   "source": [
    "# With the levenshtein distance!\n",
    "from pyspark.sql.functions import *\n",
    "from pyspark.sql.types import *\n",
    "\n",
    "# First we create a dataframe with the 3 options we want to choose from\n",
    "options = spark.createDataFrame(['Monkey', 'Elephant', 'Hippopotamus'], StringType())\n",
    "options.show()"
   ]
  },
  {
   "cell_type": "code",
   "execution_count": 0,
   "metadata": {
    "application/vnd.databricks.v1+cell": {
     "cellMetadata": {},
     "inputWidgets": {},
     "nuid": "c63e8418-967d-49ce-a8d5-8b28e6fdd6c8",
     "showTitle": false,
     "title": ""
    },
    "id": "26rTfF82A2hX",
    "outputId": "d4f6ae76-8f51-4b44-e5ef-2ca4000f6a57"
   },
   "outputs": [],
   "source": [
    "# And then we join the two dataframes together with a condition >5\n",
    "results = zoo.join(options, levenshtein(zoo[\"Animal\"], options[\"value\"]) < 5, 'left')\n",
    "results.show()"
   ]
  },
  {
   "cell_type": "markdown",
   "metadata": {
    "application/vnd.databricks.v1+cell": {
     "cellMetadata": {},
     "inputWidgets": {},
     "nuid": "aade8e53-8b81-4cc6-9a85-a97c94743661",
     "showTitle": false,
     "title": ""
    },
    "id": "Ioclw8mlA2hY"
   },
   "source": [
    "So we can see here that all of our values were correctly identified except for \"Hippo\" which was just way too different from \"Hippopotamus\" to get correctly identified. So this solution won't work for EVERY case, but we can see here that it did a great job correcting simple gramatical errors. "
   ]
  },
  {
   "cell_type": "markdown",
   "metadata": {
    "application/vnd.databricks.v1+cell": {
     "cellMetadata": {},
     "inputWidgets": {},
     "nuid": "70200cb8-0f32-4e89-ad44-8acb2284351b",
     "showTitle": false,
     "title": ""
    },
    "id": "6IEM_9seA2hY"
   },
   "source": [
    "# Section 6. Aggregating DataFrames in PySpark HW Solutions\n"
   ]
  },
  {
   "cell_type": "code",
   "execution_count": 0,
   "metadata": {
    "application/vnd.databricks.v1+cell": {
     "cellMetadata": {},
     "inputWidgets": {},
     "nuid": "1a5f966b-7c73-4ba1-8d9c-e233ec0076f4",
     "showTitle": false,
     "title": ""
    },
    "id": "TtkcdMjIA2hY",
    "outputId": "0b9ae79d-5c54-4364-ac33-a80b4753c55a"
   },
   "outputs": [],
   "source": [
    "# import findspark\n",
    "# findspark.init()\n",
    "\n",
    "import pyspark # only run after findspark.init()\n",
    "from pyspark.sql import SparkSession\n",
    "# May take awhile locally\n",
    "spark = SparkSession.builder.appName(\"aggregate\").getOrCreate()\n",
    "\n",
    "cores = spark._jsc.sc().getExecutorMemoryStatus().keySet().size()\n",
    "print(\"You are working with\", cores, \"core(s)\")\n",
    "spark"
   ]
  },
  {
   "cell_type": "markdown",
   "metadata": {
    "application/vnd.databricks.v1+cell": {
     "cellMetadata": {},
     "inputWidgets": {},
     "nuid": "35a9910b-7e28-470a-b0b5-b2a807d85028",
     "showTitle": false,
     "title": ""
    },
    "id": "fhGK2WLWA2hY"
   },
   "source": [
    "## Read in the dataFrame for this Notebook"
   ]
  },
  {
   "cell_type": "code",
   "execution_count": 0,
   "metadata": {
    "application/vnd.databricks.v1+cell": {
     "cellMetadata": {},
     "inputWidgets": {},
     "nuid": "e9a9941b-692e-4715-bd9a-aefb9d3aa615",
     "showTitle": false,
     "title": ""
    },
    "id": "TdvEFUV5A2hY"
   },
   "outputs": [],
   "source": [
    "airbnb = spark.read.csv('nyc_air_bnb.csv',inferSchema=True,header=True)"
   ]
  },
  {
   "cell_type": "code",
   "execution_count": 0,
   "metadata": {
    "application/vnd.databricks.v1+cell": {
     "cellMetadata": {},
     "inputWidgets": {},
     "nuid": "5319f110-2af5-492e-a90e-e7a3003ede3c",
     "showTitle": false,
     "title": ""
    },
    "id": "LemebJcJA2hZ",
    "outputId": "85c66f08-bce3-461a-bcf5-00f89cf51b90"
   },
   "outputs": [],
   "source": [
    "airbnb.limit(5).toPandas()"
   ]
  },
  {
   "cell_type": "code",
   "execution_count": 0,
   "metadata": {
    "application/vnd.databricks.v1+cell": {
     "cellMetadata": {},
     "inputWidgets": {},
     "nuid": "3c96b406-144c-48e1-9b24-3339a1c81fb3",
     "showTitle": false,
     "title": ""
    },
    "id": "QEWk8mqgA2hZ",
    "outputId": "61f3bcba-8abe-4a85-ff4b-978daead28bc"
   },
   "outputs": [],
   "source": [
    "print(airbnb.printSchema())"
   ]
  },
  {
   "cell_type": "markdown",
   "metadata": {
    "application/vnd.databricks.v1+cell": {
     "cellMetadata": {},
     "inputWidgets": {},
     "nuid": "0b8570da-572b-44c7-8641-0d2e36b0a8c7",
     "showTitle": false,
     "title": ""
    },
    "id": "0s3_sRUfA2hZ"
   },
   "source": [
    "Notice here that some of the columns that are obviously numeric have been incorrectly identified as \"strings\". Let's edit that. Otherwise we cannot aggregate any of the numeric columns."
   ]
  },
  {
   "cell_type": "code",
   "execution_count": 0,
   "metadata": {
    "application/vnd.databricks.v1+cell": {
     "cellMetadata": {},
     "inputWidgets": {},
     "nuid": "ad6a24bf-cfe1-43e7-88b7-9f246c0107f5",
     "showTitle": false,
     "title": ""
    },
    "id": "n_9thezgA2hZ",
    "outputId": "e8f97801-b17c-4f97-f5f4-cf386738040e"
   },
   "outputs": [],
   "source": [
    "from pyspark.sql.types import *\n",
    "from pyspark.sql.functions import *\n",
    "\n",
    "df = airbnb.withColumn(\"price\", airbnb[\"price\"].cast(IntegerType())) \\\n",
    "        .withColumn(\"minimum_nights\", airbnb[\"minimum_nights\"].cast(IntegerType())) \\\n",
    "        .withColumn(\"number_of_reviews\", airbnb[\"number_of_reviews\"].cast(IntegerType())) \\\n",
    "        .withColumn(\"reviews_per_month\", airbnb[\"reviews_per_month\"].cast(IntegerType())) \\\n",
    "        .withColumn(\"calculated_host_listings_count\", airbnb[\"calculated_host_listings_count\"].cast(IntegerType()))\n",
    "#QA\n",
    "print(df.printSchema())\n",
    "df.limit(5).toPandas()"
   ]
  },
  {
   "cell_type": "markdown",
   "metadata": {
    "application/vnd.databricks.v1+cell": {
     "cellMetadata": {},
     "inputWidgets": {},
     "nuid": "44b3d2d5-10cd-46a5-a0ea-8f8a221e2f1a",
     "showTitle": false,
     "title": ""
    },
    "id": "WZ6xYRolA2hZ"
   },
   "source": [
    "### Alright now we are ready to dig in!\n",
    "\n",
    "\n",
    "## S6.1. How many rows are in this dataset?"
   ]
  },
  {
   "cell_type": "code",
   "execution_count": 0,
   "metadata": {
    "application/vnd.databricks.v1+cell": {
     "cellMetadata": {},
     "inputWidgets": {},
     "nuid": "9d172617-d2cb-41aa-88d0-72124eee0991",
     "showTitle": false,
     "title": ""
    },
    "id": "S5uWz2sAA2ha",
    "outputId": "26afffb8-4076-4028-fbd0-cbca46c5500d"
   },
   "outputs": [],
   "source": [
    "df.count()"
   ]
  },
  {
   "cell_type": "markdown",
   "metadata": {
    "application/vnd.databricks.v1+cell": {
     "cellMetadata": {},
     "inputWidgets": {},
     "nuid": "d2087749-897d-438c-8c31-de5b81698c29",
     "showTitle": false,
     "title": ""
    },
    "id": "37U0nBC7A2ha"
   },
   "source": [
    "## S6.2. How many total reviews does each host have?"
   ]
  },
  {
   "cell_type": "code",
   "execution_count": 0,
   "metadata": {
    "application/vnd.databricks.v1+cell": {
     "cellMetadata": {},
     "inputWidgets": {},
     "nuid": "93e2704a-93de-424d-900b-c4da09b71abd",
     "showTitle": false,
     "title": ""
    },
    "id": "U1uZdtIFA2ha",
    "outputId": "a60caf82-d7cb-4140-833a-a6e39481c7f4"
   },
   "outputs": [],
   "source": [
    "df.groupBy(\"host_id\").sum('number_of_reviews').show(10)"
   ]
  },
  {
   "cell_type": "markdown",
   "metadata": {
    "application/vnd.databricks.v1+cell": {
     "cellMetadata": {},
     "inputWidgets": {},
     "nuid": "19fa376a-0bae-4e57-8e15-1d54dc730c35",
     "showTitle": false,
     "title": ""
    },
    "id": "F4FkgqjQA2ha"
   },
   "source": [
    "## S6.3. Show the min and max of all the numeric variables in the dataset"
   ]
  },
  {
   "cell_type": "code",
   "execution_count": 0,
   "metadata": {
    "application/vnd.databricks.v1+cell": {
     "cellMetadata": {},
     "inputWidgets": {},
     "nuid": "f062af39-3877-412f-993c-f0ac7d4b204b",
     "showTitle": false,
     "title": ""
    },
    "id": "I5-DPyxVA2ha",
    "outputId": "18ec3297-5866-4e8d-b7d2-bbfa1d60481b"
   },
   "outputs": [],
   "source": [
    "limit_summary = df.select(\"price\",\"minimum_nights\",\"number_of_reviews\",\"last_review\",\"reviews_per_month\",\"calculated_host_listings_count\",\"availability_365\").summary(\"min\",\"max\")\n",
    "limit_summary.toPandas()"
   ]
  },
  {
   "cell_type": "markdown",
   "metadata": {
    "application/vnd.databricks.v1+cell": {
     "cellMetadata": {},
     "inputWidgets": {},
     "nuid": "ebccbbe6-0821-4543-96e0-cef7be0cb022",
     "showTitle": false,
     "title": ""
    },
    "id": "dHQZsFLHA2hb"
   },
   "source": [
    "## S6.4. Which host had the highest number of reviews?\n",
    "\n",
    "Only display the top result.\n",
    "\n",
    "Bonus: format the column names"
   ]
  },
  {
   "cell_type": "code",
   "execution_count": 0,
   "metadata": {
    "application/vnd.databricks.v1+cell": {
     "cellMetadata": {},
     "inputWidgets": {},
     "nuid": "6b8d7205-53cd-41dd-92b7-1e31dfae3da5",
     "showTitle": false,
     "title": ""
    },
    "id": "l25IjWOCA2hb",
    "outputId": "fd20252c-b3d5-4724-ff43-c465a86c2360"
   },
   "outputs": [],
   "source": [
    "from pyspark.sql import functions\n",
    "df.groupBy(\"host_id\").agg(sum(\"number_of_reviews\").alias(\"Reviews\")).orderBy(sum(\"number_of_reviews\").desc()).show(1) "
   ]
  },
  {
   "cell_type": "markdown",
   "metadata": {
    "application/vnd.databricks.v1+cell": {
     "cellMetadata": {},
     "inputWidgets": {},
     "nuid": "0c05d400-f184-4fa8-9f77-24f1fc66f2bc",
     "showTitle": false,
     "title": ""
    },
    "id": "YqR2IRlcA2hb"
   },
   "source": [
    "## S6.5. On average, how many nights did most hosts specify for a minimum?"
   ]
  },
  {
   "cell_type": "code",
   "execution_count": 0,
   "metadata": {
    "application/vnd.databricks.v1+cell": {
     "cellMetadata": {},
     "inputWidgets": {},
     "nuid": "66af27ef-f39c-401e-a6b2-6f5b4a4158fa",
     "showTitle": false,
     "title": ""
    },
    "id": "BFrYlewsA2hb",
    "outputId": "b00a92cb-e9f2-433c-fd5c-32215f56a083"
   },
   "outputs": [],
   "source": [
    "df.agg({'minimum_nights':'avg'}).withColumnRenamed(\"avg(minimum_nights)\", \"Avg Min Nights\").show()"
   ]
  },
  {
   "cell_type": "code",
   "execution_count": 0,
   "metadata": {
    "application/vnd.databricks.v1+cell": {
     "cellMetadata": {},
     "inputWidgets": {},
     "nuid": "b5653818-37e7-4d43-83fb-bdbde9364569",
     "showTitle": false,
     "title": ""
    },
    "id": "jO3GxfVhA2hc",
    "outputId": "37917242-5346-4ca6-e67a-e66a9404c550"
   },
   "outputs": [],
   "source": [
    "df.agg(mean(df.minimum_nights)).show()"
   ]
  },
  {
   "cell_type": "markdown",
   "metadata": {
    "application/vnd.databricks.v1+cell": {
     "cellMetadata": {},
     "inputWidgets": {},
     "nuid": "245ccebe-7f1d-48b2-9382-a7de54379ebd",
     "showTitle": false,
     "title": ""
    },
    "id": "OOaMVohmA2hc"
   },
   "source": [
    "## S6.6. What is the most expensive neighbourhood to stay in on average?\n",
    "\n",
    "Note: only show the one result"
   ]
  },
  {
   "cell_type": "code",
   "execution_count": 0,
   "metadata": {
    "application/vnd.databricks.v1+cell": {
     "cellMetadata": {},
     "inputWidgets": {},
     "nuid": "fae0348f-5db5-4b9a-8ce1-9435f5d954af",
     "showTitle": false,
     "title": ""
    },
    "id": "GgwbYtTyA2hc",
    "outputId": "51ab33af-3e7f-4a73-c413-27816eb7efd1"
   },
   "outputs": [],
   "source": [
    "result = df.groupBy(\"neighbourhood\").agg(avg(df.price).alias('avg_price'))\n",
    "result.orderBy(result.avg_price.desc()).show(1) "
   ]
  },
  {
   "cell_type": "markdown",
   "metadata": {
    "application/vnd.databricks.v1+cell": {
     "cellMetadata": {},
     "inputWidgets": {},
     "nuid": "5e5e4534-5a75-45a5-9b07-ae9cf932324e",
     "showTitle": false,
     "title": ""
    },
    "id": "huvDJ1D-A2hc"
   },
   "source": [
    "## S6.7. Display a two by two table that shows the average prices by room type (private and shared only) and neighborhood group (Manhattan and Brooklyn only)"
   ]
  },
  {
   "cell_type": "code",
   "execution_count": 0,
   "metadata": {
    "application/vnd.databricks.v1+cell": {
     "cellMetadata": {},
     "inputWidgets": {},
     "nuid": "ad7f46f2-af88-4587-bfeb-ef11acd81185",
     "showTitle": false,
     "title": ""
    },
    "id": "-JctZAUBA2hc",
    "outputId": "9fdd91b6-56cf-446b-fab7-cdaafdf27fb0"
   },
   "outputs": [],
   "source": [
    "df.filter(\"room_type IN('Private room','Shared room')\").groupBy(\"room_type\").pivot(\"neighbourhood_group\", [\"Manhattan\", \"Brooklyn\"]).avg('price').show(100)"
   ]
  },
  {
   "cell_type": "markdown",
   "metadata": {
    "application/vnd.databricks.v1+cell": {
     "cellMetadata": {},
     "inputWidgets": {},
     "nuid": "5db6fc38-ae33-4bf8-a6e4-fc8fda4e54f1",
     "showTitle": false,
     "title": ""
    },
    "id": "vuQkSUOUA2hd"
   },
   "source": [
    "# Section 7. SQL Options in Spark HW Solutions\n",
    "\n",
    "Alirght let's apply what we learned in the lecture to a new dataset!\n",
    "\n",
    "**But first!**\n",
    "\n",
    "Let's start with Spark SQL. But first we need to create a Spark Session!"
   ]
  },
  {
   "cell_type": "code",
   "execution_count": 0,
   "metadata": {
    "application/vnd.databricks.v1+cell": {
     "cellMetadata": {},
     "inputWidgets": {},
     "nuid": "04a532db-09b2-4318-bc08-2ddcb7d905f4",
     "showTitle": false,
     "title": ""
    },
    "id": "qh5lke6FA2hd",
    "outputId": "31a802ea-0346-4813-e5ca-b90d07777cfb"
   },
   "outputs": [],
   "source": [
    "# import findspark\n",
    "# findspark.init()\n",
    "\n",
    "import pyspark # only run after findspark.init()\n",
    "from pyspark.sql import SparkSession\n",
    "# May take awhile locally\n",
    "spark = SparkSession.builder.appName(\"SparkSQLHWSolutions\").getOrCreate()\n",
    "\n",
    "cores = spark._jsc.sc().getExecutorMemoryStatus().keySet().size()\n",
    "print(\"You are working with\", cores, \"core(s)\")\n",
    "spark"
   ]
  },
  {
   "cell_type": "markdown",
   "metadata": {
    "application/vnd.databricks.v1+cell": {
     "cellMetadata": {},
     "inputWidgets": {},
     "nuid": "7d5e05a0-187c-41e9-aecb-3336e4d16c9f",
     "showTitle": false,
     "title": ""
    },
    "id": "GFtc8b4qA2hd"
   },
   "source": [
    "## Read in our DataFrame for this Notebook\n",
    "\n",
    "For this notebook we will be using the Google Play Store csv file attached to this lecture. Let's go ahead and read it in. \n",
    "\n",
    "### About this dataset\n",
    "\n",
    "Contains a list of Google Play Store Apps and info about the apps like the category, rating, reviews, size, etc. \n",
    "\n",
    "**Source:** https://www.kaggle.com/lava18/google-play-store-apps"
   ]
  },
  {
   "cell_type": "code",
   "execution_count": 0,
   "metadata": {
    "application/vnd.databricks.v1+cell": {
     "cellMetadata": {},
     "inputWidgets": {},
     "nuid": "96b6515c-36ba-4720-8e34-5c736d4ca4f4",
     "showTitle": false,
     "title": ""
    },
    "id": "zBoH59DtA2hd"
   },
   "outputs": [],
   "source": [
    "path = 'Datasets/'\n",
    "\n",
    "googlep = spark.read.csv(path+\"googleplaystore.csv\",header=True,inferSchema=True)"
   ]
  },
  {
   "cell_type": "markdown",
   "metadata": {
    "application/vnd.databricks.v1+cell": {
     "cellMetadata": {},
     "inputWidgets": {},
     "nuid": "12368ff0-a678-40f8-9002-c60c19d5c61e",
     "showTitle": false,
     "title": ""
    },
    "id": "_u2J5FcUA2he"
   },
   "source": [
    "## First things first\n",
    "\n",
    "Let's check out the first few lines of the dataframe to see what we are working with"
   ]
  },
  {
   "cell_type": "code",
   "execution_count": 0,
   "metadata": {
    "application/vnd.databricks.v1+cell": {
     "cellMetadata": {},
     "inputWidgets": {},
     "nuid": "e3fc24a8-892d-4c7b-9117-2784005e9b79",
     "showTitle": false,
     "title": ""
    },
    "id": "eA2u1NADA2he",
    "outputId": "be064975-2ea2-437d-8367-54d92b3a2ec5"
   },
   "outputs": [],
   "source": [
    "# This is way better\n",
    "googlep.limit(5).toPandas()"
   ]
  },
  {
   "cell_type": "markdown",
   "metadata": {
    "application/vnd.databricks.v1+cell": {
     "cellMetadata": {},
     "inputWidgets": {},
     "nuid": "aef9a56b-ad10-4bc9-aa0f-9c05fa53eb82",
     "showTitle": false,
     "title": ""
    },
    "id": "C7kAfGgBA2he"
   },
   "source": [
    "As well as the schema to make sure all the column types were correctly inferred"
   ]
  },
  {
   "cell_type": "code",
   "execution_count": 0,
   "metadata": {
    "application/vnd.databricks.v1+cell": {
     "cellMetadata": {},
     "inputWidgets": {},
     "nuid": "93c8ae19-16ff-49ac-a966-05bc1ac2b2c4",
     "showTitle": false,
     "title": ""
    },
    "id": "gFq3Im4xA2he",
    "outputId": "e3e13871-c02b-4d3d-86f5-b92fcd25e550"
   },
   "outputs": [],
   "source": [
    "print(googlep.printSchema())"
   ]
  },
  {
   "cell_type": "markdown",
   "metadata": {
    "application/vnd.databricks.v1+cell": {
     "cellMetadata": {},
     "inputWidgets": {},
     "nuid": "b5b79571-6048-4765-ae5d-aed00c41cf90",
     "showTitle": false,
     "title": ""
    },
    "id": "WVQmZlyZA2he"
   },
   "source": [
    "Looks like we need to edit some of the datatypes. Let's just update Rating, Reviews and Price as integer (float for Rating) values for now, since the Size and Installs variables will need a bit more cleaning."
   ]
  },
  {
   "cell_type": "code",
   "execution_count": 0,
   "metadata": {
    "application/vnd.databricks.v1+cell": {
     "cellMetadata": {},
     "inputWidgets": {},
     "nuid": "ed4b3146-fb1d-431b-9626-ee21037a0c6f",
     "showTitle": false,
     "title": ""
    },
    "id": "fJMeesKUA2hf",
    "outputId": "349b61fa-7331-479d-b2c5-cbce041c7246"
   },
   "outputs": [],
   "source": [
    "from pyspark.sql.types import IntegerType, FloatType\n",
    "df = googlep.withColumn(\"Rating\", googlep[\"Rating\"].cast(FloatType())) \\\n",
    "            .withColumn(\"Reviews\", googlep[\"Reviews\"].cast(IntegerType())) \\\n",
    "            .withColumn(\"Price\", googlep[\"Price\"].cast(IntegerType()))\n",
    "print(df.printSchema())\n",
    "df.limit(5).toPandas()"
   ]
  },
  {
   "cell_type": "markdown",
   "metadata": {
    "application/vnd.databricks.v1+cell": {
     "cellMetadata": {},
     "inputWidgets": {},
     "nuid": "79414e6d-46b0-4124-9389-616d6ccba8b7",
     "showTitle": false,
     "title": ""
    },
    "id": "_NKv_B7aA2hf"
   },
   "source": [
    "Looks like that worked! Great! Let's dig in. "
   ]
  },
  {
   "cell_type": "markdown",
   "metadata": {
    "application/vnd.databricks.v1+cell": {
     "cellMetadata": {},
     "inputWidgets": {},
     "nuid": "9ded3e2d-d00b-4946-911a-d548888db598",
     "showTitle": false,
     "title": ""
    },
    "id": "KMktvmGEA2hf"
   },
   "source": [
    "## S7.1. Create Tempview\n",
    "\n",
    "Go ahead and create a tempview of the dataframe so we can work with it in spark sql."
   ]
  },
  {
   "cell_type": "code",
   "execution_count": 0,
   "metadata": {
    "application/vnd.databricks.v1+cell": {
     "cellMetadata": {},
     "inputWidgets": {},
     "nuid": "902df969-81ab-4117-b261-0db6bad99d14",
     "showTitle": false,
     "title": ""
    },
    "id": "f80WDCfTA2hf"
   },
   "outputs": [],
   "source": [
    "# Create a temporary view of the dataframe\n",
    "df.createOrReplaceTempView(\"tempview\")"
   ]
  },
  {
   "cell_type": "markdown",
   "metadata": {
    "application/vnd.databricks.v1+cell": {
     "cellMetadata": {},
     "inputWidgets": {},
     "nuid": "65a2295c-5948-4bc0-a402-5826c20710e6",
     "showTitle": false,
     "title": ""
    },
    "id": "1XPeIwSZA2hg"
   },
   "source": [
    "## S7.2. Select all apps with ratings above 4.1\n",
    "\n",
    "Use your tempview to select all apps with ratings above 4.1"
   ]
  },
  {
   "cell_type": "code",
   "execution_count": 0,
   "metadata": {
    "application/vnd.databricks.v1+cell": {
     "cellMetadata": {},
     "inputWidgets": {},
     "nuid": "5b78a89d-be71-47ef-b29e-5770778543e2",
     "showTitle": false,
     "title": ""
    },
    "id": "t5aEfQzrA2hg",
    "outputId": "daafa0f2-45d5-464b-9d72-6ee1e91daa85"
   },
   "outputs": [],
   "source": [
    "# Then Query the temp view\n",
    "spark.sql(\"SELECT * FROM tempview WHERE Rating > 4.1\").limit(5).toPandas()"
   ]
  },
  {
   "cell_type": "markdown",
   "metadata": {
    "application/vnd.databricks.v1+cell": {
     "cellMetadata": {},
     "inputWidgets": {},
     "nuid": "9593b3cb-ad18-43f9-b110-1c8458bea02e",
     "showTitle": false,
     "title": ""
    },
    "id": "GBupeqzvA2hg"
   },
   "source": [
    "## S7.3. Now pass your results to an object (ie create a spark dataframe)\n",
    "\n",
    "Select just the App and Rating column where the Category is in the Comic category and the Rating is above 4.5."
   ]
  },
  {
   "cell_type": "code",
   "execution_count": 0,
   "metadata": {
    "application/vnd.databricks.v1+cell": {
     "cellMetadata": {},
     "inputWidgets": {},
     "nuid": "ce56dbce-05d5-4ec2-8280-692e2f827d2b",
     "showTitle": false,
     "title": ""
    },
    "id": "wTXSny5cA2hg",
    "outputId": "1be045b4-0e16-45cb-d79d-b8b0476e4c7d"
   },
   "outputs": [],
   "source": [
    "# Or pass it to an object\n",
    "sql_results = spark.sql(\"SELECT App,Rating FROM tempview WHERE Category = 'COMICS' AND Rating > 4.5\")\n",
    "sql_results.limit(5).toPandas()"
   ]
  },
  {
   "cell_type": "markdown",
   "metadata": {
    "application/vnd.databricks.v1+cell": {
     "cellMetadata": {},
     "inputWidgets": {},
     "nuid": "4b260067-fa04-4a74-8cde-cda2d3f31f5b",
     "showTitle": false,
     "title": ""
    },
    "id": "JEcxnhMaA2hg"
   },
   "source": [
    "## S7.4. Which category has the most cumulative reviews\n",
    "\n",
    "Only select the one category with the most reivews. \n",
    "\n",
    "*Note: will require adding all the review together for each category*"
   ]
  },
  {
   "cell_type": "code",
   "execution_count": 0,
   "metadata": {
    "application/vnd.databricks.v1+cell": {
     "cellMetadata": {},
     "inputWidgets": {},
     "nuid": "943d42c2-c2f5-4c10-8ccc-9f23e17aefd0",
     "showTitle": false,
     "title": ""
    },
    "id": "59n-EI9cA2hh",
    "outputId": "c20bda1c-d9b3-4502-ddf5-da19ae008bfa"
   },
   "outputs": [],
   "source": [
    "spark.sql(\"SELECT Category, sum(Reviews) AS Total_Reviews FROM tempview GROUP BY Category ORDER BY Total_Reviews DESC\").limit(1).toPandas()"
   ]
  },
  {
   "cell_type": "markdown",
   "metadata": {
    "application/vnd.databricks.v1+cell": {
     "cellMetadata": {},
     "inputWidgets": {},
     "nuid": "6c73e20f-da24-46c4-b7c7-8b39c753f271",
     "showTitle": false,
     "title": ""
    },
    "id": "Kgf97FnZA2hh"
   },
   "source": [
    "## S7.5. Which App has the most reviews?\n",
    "\n",
    "Display ONLY the top result\n",
    "\n",
    "Include only the App column and the Reviews column."
   ]
  },
  {
   "cell_type": "code",
   "execution_count": 0,
   "metadata": {
    "application/vnd.databricks.v1+cell": {
     "cellMetadata": {},
     "inputWidgets": {},
     "nuid": "84e5ab23-a1b9-42d2-89c9-7fda879486cb",
     "showTitle": false,
     "title": ""
    },
    "id": "l5hcmwwwA2hh",
    "outputId": "36ddd250-48f6-4c16-b7af-d21d4f8ee328"
   },
   "outputs": [],
   "source": [
    "spark.sql(\"SELECT App, Reviews FROM tempview ORDER BY Reviews DESC\").show(1)"
   ]
  },
  {
   "cell_type": "markdown",
   "metadata": {
    "application/vnd.databricks.v1+cell": {
     "cellMetadata": {},
     "inputWidgets": {},
     "nuid": "d37bf299-bdfc-4f2d-b0a3-38f81afecd94",
     "showTitle": false,
     "title": ""
    },
    "id": "iQ4o-lr1A2hh"
   },
   "source": [
    "## S7.6. Select all apps that contain the word 'dating' anywhere in the title\n",
    "\n",
    "*Note: we did not cover this in the lecture. You'll have to use your SQL knowledge :) Google it if you need to.*"
   ]
  },
  {
   "cell_type": "code",
   "execution_count": 0,
   "metadata": {
    "application/vnd.databricks.v1+cell": {
     "cellMetadata": {},
     "inputWidgets": {},
     "nuid": "6b508ce2-31ee-4d92-a26f-2fc39d422b00",
     "showTitle": false,
     "title": ""
    },
    "id": "_vNiVASdA2hh",
    "outputId": "84b71d30-9a57-4ec0-d549-72d42b999b5b"
   },
   "outputs": [],
   "source": [
    "spark.sql(\"SELECT * FROM tempview WHERE App LIKE '%dating%'\").limit(5).toPandas()"
   ]
  },
  {
   "cell_type": "markdown",
   "metadata": {
    "application/vnd.databricks.v1+cell": {
     "cellMetadata": {},
     "inputWidgets": {},
     "nuid": "62225105-b017-43bb-a927-4e0494a82e56",
     "showTitle": false,
     "title": ""
    },
    "id": "70dPEHBHA2hi"
   },
   "source": [
    "## S7.7. Use SQL Transformer to display how many free apps there are in this list"
   ]
  },
  {
   "cell_type": "code",
   "execution_count": 0,
   "metadata": {
    "application/vnd.databricks.v1+cell": {
     "cellMetadata": {},
     "inputWidgets": {},
     "nuid": "196e9332-8cee-4014-b3b5-84c9a18a94b0",
     "showTitle": false,
     "title": ""
    },
    "id": "CYiJ56npA2hi"
   },
   "outputs": [],
   "source": [
    "# First we need to import SQL transformer\n",
    "from pyspark.ml.feature import SQLTransformer"
   ]
  },
  {
   "cell_type": "code",
   "execution_count": 0,
   "metadata": {
    "application/vnd.databricks.v1+cell": {
     "cellMetadata": {},
     "inputWidgets": {},
     "nuid": "58e95fb5-6a54-4e29-844c-3bba34478f73",
     "showTitle": false,
     "title": ""
    },
    "id": "OUxdFf5aA2hi",
    "outputId": "8cdba656-1170-4e4b-bfa4-f1a09d166d1e"
   },
   "outputs": [],
   "source": [
    "sqlTrans = SQLTransformer(\n",
    "    statement=\"SELECT count(*) FROM __THIS__ WHERE Type = 'Free'\") \n",
    "sqlTrans.transform(df).show()"
   ]
  },
  {
   "cell_type": "markdown",
   "metadata": {
    "application/vnd.databricks.v1+cell": {
     "cellMetadata": {},
     "inputWidgets": {},
     "nuid": "39a5bf2d-1789-48d1-92e5-1ae492e616d3",
     "showTitle": false,
     "title": ""
    },
    "id": "Vw-skQ0ZA2hi"
   },
   "source": [
    "## S7.8. What is the most popular Genre?\n",
    "\n",
    "Which genre appears most often in the dataframe. Show only the top result."
   ]
  },
  {
   "cell_type": "code",
   "execution_count": 0,
   "metadata": {
    "application/vnd.databricks.v1+cell": {
     "cellMetadata": {},
     "inputWidgets": {},
     "nuid": "f0c429fd-faea-4aed-8907-ea5988d8ee4d",
     "showTitle": false,
     "title": ""
    },
    "id": "vpgG5thGA2hi",
    "outputId": "77f5ee13-83c6-4168-e743-e944bb30045f"
   },
   "outputs": [],
   "source": [
    "sqlTrans = SQLTransformer(\n",
    "    statement=\"SELECT Genres, count(*) as Total FROM __THIS__ GROUP BY Genres ORDER BY Total DESC\") \n",
    "sqlTrans.transform(df).show(1)"
   ]
  },
  {
   "cell_type": "markdown",
   "metadata": {
    "application/vnd.databricks.v1+cell": {
     "cellMetadata": {},
     "inputWidgets": {},
     "nuid": "0e14542b-cf4e-48aa-bff0-431993912733",
     "showTitle": false,
     "title": ""
    },
    "id": "Q6AQfSwBA2hj"
   },
   "source": [
    "## S7.9. Select all the apps in the 'Tools' genre that have more than 100 reviews"
   ]
  },
  {
   "cell_type": "code",
   "execution_count": 0,
   "metadata": {
    "application/vnd.databricks.v1+cell": {
     "cellMetadata": {},
     "inputWidgets": {},
     "nuid": "6a80cd6f-b171-4a1b-b565-48d674840726",
     "showTitle": false,
     "title": ""
    },
    "id": "_zl9VfBYA2hj",
    "outputId": "b299cc2e-a705-4329-ea85-4d12ee31baea"
   },
   "outputs": [],
   "source": [
    "sqlTrans = SQLTransformer(\n",
    "    statement=\"SELECT App, Reviews FROM __THIS__ WHERE Genres = 'Tools' AND Reviews > 100\") \n",
    "sqlTrans.transform(df).show(10)"
   ]
  },
  {
   "cell_type": "markdown",
   "metadata": {
    "application/vnd.databricks.v1+cell": {
     "cellMetadata": {},
     "inputWidgets": {},
     "nuid": "156fd43d-b05c-4168-8ad1-c47ef2f84607",
     "showTitle": false,
     "title": ""
    }
   },
   "source": [
    "### That's it! Great Job!"
   ]
  }
 ],
 "metadata": {
  "application/vnd.databricks.v1+notebook": {
   "dashboards": [],
   "environmentMetadata": null,
   "language": "python",
   "notebookMetadata": {},
   "notebookName": "spark_exercise_2_solution",
   "widgets": {}
  },
  "colab": {
   "provenance": []
  },
  "kernelspec": {
   "display_name": "Python 3 (ipykernel)",
   "language": "python",
   "name": "python3"
  },
  "language_info": {
   "codemirror_mode": {
    "name": "ipython",
    "version": 3
   },
   "file_extension": ".py",
   "mimetype": "text/x-python",
   "name": "python",
   "nbconvert_exporter": "python",
   "pygments_lexer": "ipython3",
   "version": "3.9.6"
  }
 },
 "nbformat": 4,
 "nbformat_minor": 0
}
